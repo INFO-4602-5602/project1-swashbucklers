{
 "cells": [
  {
   "cell_type": "code",
   "execution_count": 163,
   "metadata": {
    "collapsed": true
   },
   "outputs": [],
   "source": [
    "import pandas as pd\n",
    "import warnings\n",
    "from dateutil.parser import parse\n",
    "warnings.filterwarnings('ignore')"
   ]
  },
  {
   "cell_type": "markdown",
   "metadata": {},
   "source": [
    "### Load the buildings and cpq data"
   ]
  },
  {
   "cell_type": "code",
   "execution_count": 164,
   "metadata": {
    "collapsed": true
   },
   "outputs": [],
   "source": [
    "PATH = 'webapp/data/'\n",
    "\n",
    "cpq = pd.read_csv(PATH + 'ZayoHackathonData_CPQs.csv')\n",
    "buildings = pd.read_csv(PATH + 'ZayoHackathonData_Buildings.csv')"
   ]
  },
  {
   "cell_type": "markdown",
   "metadata": {},
   "source": [
    "### Remove rows where Account ID, Product Group and Building ID is repeated - except the row where a said Account ID, Product Group and Building ID occurs"
   ]
  },
  {
   "cell_type": "code",
   "execution_count": 165,
   "metadata": {
    "collapsed": true
   },
   "outputs": [],
   "source": [
    "cpq['CreatedDate'] = cpq['CreatedDate'].apply(lambda x : parse(x))\n",
    "cpq.sort_values(by='CreatedDate', inplace=True)\n",
    "cpq.drop_duplicates(['Account ID', 'Product Group', 'Building ID'], inplace=True)"
   ]
  },
  {
   "cell_type": "markdown",
   "metadata": {},
   "source": [
    "### Get the count of records by the attribute 'On Zayo Network Status'"
   ]
  },
  {
   "cell_type": "code",
   "execution_count": 166,
   "metadata": {
    "collapsed": false
   },
   "outputs": [
    {
     "data": {
      "text/plain": [
       "On Zayo Network        5624\n",
       "Not on Zayo Network    1214\n",
       "Build in Progress        82\n",
       "Name: On Zayo Network Status, dtype: int64"
      ]
     },
     "execution_count": 166,
     "metadata": {},
     "output_type": "execute_result"
    }
   ],
   "source": [
    "cpq['On Zayo Network Status'].value_counts()"
   ]
  },
  {
   "cell_type": "code",
   "execution_count": 167,
   "metadata": {
    "collapsed": false
   },
   "outputs": [
    {
     "data": {
      "text/plain": [
       "Index([u'CPQ ID', u'Account ID', u'CreatedDate', u'Product Group',\n",
       "       u' X36 MRC List ', u' X36 NRR List ', u' X36 NPV List ', u'Building ID',\n",
       "       u'Market', u'Street Address', u'City', u'State', u'Postal Code',\n",
       "       u'Network Proximity', u'On Zayo Network Status'],\n",
       "      dtype='object')"
      ]
     },
     "execution_count": 167,
     "metadata": {},
     "output_type": "execute_result"
    }
   ],
   "source": [
    "cpq.columns"
   ]
  },
  {
   "cell_type": "markdown",
   "metadata": {},
   "source": [
    "### Merge the cpq and buildings by doing an inner join"
   ]
  },
  {
   "cell_type": "code",
   "execution_count": 168,
   "metadata": {
    "collapsed": false
   },
   "outputs": [],
   "source": [
    "cpq_business = pd.merge(cpq, buildings, how='inner')"
   ]
  },
  {
   "cell_type": "code",
   "execution_count": 169,
   "metadata": {
    "collapsed": false
   },
   "outputs": [
    {
     "data": {
      "text/html": [
       "<div>\n",
       "<table border=\"1\" class=\"dataframe\">\n",
       "  <thead>\n",
       "    <tr style=\"text-align: right;\">\n",
       "      <th></th>\n",
       "      <th>CPQ ID</th>\n",
       "      <th>Account ID</th>\n",
       "      <th>CreatedDate</th>\n",
       "      <th>Product Group</th>\n",
       "      <th>X36 MRC List</th>\n",
       "      <th>X36 NRR List</th>\n",
       "      <th>X36 NPV List</th>\n",
       "      <th>Building ID</th>\n",
       "      <th>Market</th>\n",
       "      <th>Street Address</th>\n",
       "      <th>City</th>\n",
       "      <th>State</th>\n",
       "      <th>Postal Code</th>\n",
       "      <th>Network Proximity</th>\n",
       "      <th>On Zayo Network Status</th>\n",
       "      <th>Latitude</th>\n",
       "      <th>Longitude</th>\n",
       "      <th>Net Classification</th>\n",
       "      <th>Type</th>\n",
       "      <th>Estimated Build Cost</th>\n",
       "    </tr>\n",
       "  </thead>\n",
       "  <tbody>\n",
       "    <tr>\n",
       "      <th>0</th>\n",
       "      <td>CPQ-009438</td>\n",
       "      <td>Acct-000469</td>\n",
       "      <td>2016-07-01</td>\n",
       "      <td>Wavelengths - Metro</td>\n",
       "      <td>$2,320.52</td>\n",
       "      <td>$3,227.00</td>\n",
       "      <td>$37,502.34</td>\n",
       "      <td>Bldg-065056</td>\n",
       "      <td>Dallas</td>\n",
       "      <td>2323 Bryan St</td>\n",
       "      <td>Dallas</td>\n",
       "      <td>TX</td>\n",
       "      <td>75201</td>\n",
       "      <td>64.67</td>\n",
       "      <td>On Zayo Network</td>\n",
       "      <td>32.787255</td>\n",
       "      <td>-96.794118</td>\n",
       "      <td>Fiber Only</td>\n",
       "      <td>Carrier Hotel</td>\n",
       "      <td>$15,880.20</td>\n",
       "    </tr>\n",
       "    <tr>\n",
       "      <th>1</th>\n",
       "      <td>CPQ-009494</td>\n",
       "      <td>Acct-000700</td>\n",
       "      <td>2016-07-05</td>\n",
       "      <td>Wavelengths - Long Haul</td>\n",
       "      <td>$2,791.26</td>\n",
       "      <td>$2,766.00</td>\n",
       "      <td>$-</td>\n",
       "      <td>Bldg-065056</td>\n",
       "      <td>Dallas</td>\n",
       "      <td>2323 Bryan St</td>\n",
       "      <td>Dallas</td>\n",
       "      <td>TX</td>\n",
       "      <td>75201</td>\n",
       "      <td>64.67</td>\n",
       "      <td>On Zayo Network</td>\n",
       "      <td>32.787255</td>\n",
       "      <td>-96.794118</td>\n",
       "      <td>Fiber Only</td>\n",
       "      <td>Carrier Hotel</td>\n",
       "      <td>$15,880.20</td>\n",
       "    </tr>\n",
       "    <tr>\n",
       "      <th>2</th>\n",
       "      <td>CPQ-009517</td>\n",
       "      <td>Acct-000043</td>\n",
       "      <td>2016-07-06</td>\n",
       "      <td>Ethernet</td>\n",
       "      <td>$1,078.38</td>\n",
       "      <td>$922.00</td>\n",
       "      <td>$21,228.45</td>\n",
       "      <td>Bldg-065056</td>\n",
       "      <td>Dallas</td>\n",
       "      <td>2323 Bryan St</td>\n",
       "      <td>Dallas</td>\n",
       "      <td>TX</td>\n",
       "      <td>75201</td>\n",
       "      <td>64.67</td>\n",
       "      <td>On Zayo Network</td>\n",
       "      <td>32.787255</td>\n",
       "      <td>-96.794118</td>\n",
       "      <td>Fiber Only</td>\n",
       "      <td>Carrier Hotel</td>\n",
       "      <td>$15,880.20</td>\n",
       "    </tr>\n",
       "    <tr>\n",
       "      <th>3</th>\n",
       "      <td>CPQ-009482</td>\n",
       "      <td>Acct-000069</td>\n",
       "      <td>2016-07-06</td>\n",
       "      <td>Ethernet</td>\n",
       "      <td>$910.98</td>\n",
       "      <td>$922.00</td>\n",
       "      <td>$16,035.62</td>\n",
       "      <td>Bldg-065056</td>\n",
       "      <td>Dallas</td>\n",
       "      <td>2323 Bryan St</td>\n",
       "      <td>Dallas</td>\n",
       "      <td>TX</td>\n",
       "      <td>75201</td>\n",
       "      <td>64.67</td>\n",
       "      <td>On Zayo Network</td>\n",
       "      <td>32.787255</td>\n",
       "      <td>-96.794118</td>\n",
       "      <td>Fiber Only</td>\n",
       "      <td>Carrier Hotel</td>\n",
       "      <td>$15,880.20</td>\n",
       "    </tr>\n",
       "    <tr>\n",
       "      <th>4</th>\n",
       "      <td>CPQ-009474</td>\n",
       "      <td>Acct-000019</td>\n",
       "      <td>2016-07-06</td>\n",
       "      <td>Wavelengths - Metro</td>\n",
       "      <td>$1,423.57</td>\n",
       "      <td>$2,766.00</td>\n",
       "      <td>$24,683.18</td>\n",
       "      <td>Bldg-065056</td>\n",
       "      <td>Dallas</td>\n",
       "      <td>2323 Bryan St</td>\n",
       "      <td>Dallas</td>\n",
       "      <td>TX</td>\n",
       "      <td>75201</td>\n",
       "      <td>64.67</td>\n",
       "      <td>On Zayo Network</td>\n",
       "      <td>32.787255</td>\n",
       "      <td>-96.794118</td>\n",
       "      <td>Fiber Only</td>\n",
       "      <td>Carrier Hotel</td>\n",
       "      <td>$15,880.20</td>\n",
       "    </tr>\n",
       "  </tbody>\n",
       "</table>\n",
       "</div>"
      ],
      "text/plain": [
       "       CPQ ID   Account ID CreatedDate            Product Group  \\\n",
       "0  CPQ-009438  Acct-000469  2016-07-01      Wavelengths - Metro   \n",
       "1  CPQ-009494  Acct-000700  2016-07-05  Wavelengths - Long Haul   \n",
       "2  CPQ-009517  Acct-000043  2016-07-06                 Ethernet   \n",
       "3  CPQ-009482  Acct-000069  2016-07-06                 Ethernet   \n",
       "4  CPQ-009474  Acct-000019  2016-07-06      Wavelengths - Metro   \n",
       "\n",
       "   X36 MRC List   X36 NRR List   X36 NPV List   Building ID  Market  \\\n",
       "0     $2,320.52      $3,227.00     $37,502.34   Bldg-065056  Dallas   \n",
       "1     $2,791.26      $2,766.00           $-     Bldg-065056  Dallas   \n",
       "2     $1,078.38        $922.00     $21,228.45   Bldg-065056  Dallas   \n",
       "3       $910.98        $922.00     $16,035.62   Bldg-065056  Dallas   \n",
       "4     $1,423.57      $2,766.00     $24,683.18   Bldg-065056  Dallas   \n",
       "\n",
       "  Street Address    City State Postal Code  Network Proximity  \\\n",
       "0  2323 Bryan St  Dallas    TX       75201              64.67   \n",
       "1  2323 Bryan St  Dallas    TX       75201              64.67   \n",
       "2  2323 Bryan St  Dallas    TX       75201              64.67   \n",
       "3  2323 Bryan St  Dallas    TX       75201              64.67   \n",
       "4  2323 Bryan St  Dallas    TX       75201              64.67   \n",
       "\n",
       "  On Zayo Network Status   Latitude  Longitude Net Classification  \\\n",
       "0        On Zayo Network  32.787255 -96.794118         Fiber Only   \n",
       "1        On Zayo Network  32.787255 -96.794118         Fiber Only   \n",
       "2        On Zayo Network  32.787255 -96.794118         Fiber Only   \n",
       "3        On Zayo Network  32.787255 -96.794118         Fiber Only   \n",
       "4        On Zayo Network  32.787255 -96.794118         Fiber Only   \n",
       "\n",
       "            Type  Estimated Build Cost   \n",
       "0  Carrier Hotel            $15,880.20   \n",
       "1  Carrier Hotel            $15,880.20   \n",
       "2  Carrier Hotel            $15,880.20   \n",
       "3  Carrier Hotel            $15,880.20   \n",
       "4  Carrier Hotel            $15,880.20   "
      ]
     },
     "execution_count": 169,
     "metadata": {},
     "output_type": "execute_result"
    }
   ],
   "source": [
    "cpq_business.head()"
   ]
  },
  {
   "cell_type": "code",
   "execution_count": 170,
   "metadata": {
    "collapsed": false
   },
   "outputs": [
    {
     "data": {
      "text/plain": [
       "(59, 59)"
      ]
     },
     "execution_count": 170,
     "metadata": {},
     "output_type": "execute_result"
    }
   ],
   "source": [
    "len(cpq.loc[cpq['Building ID'] == 'Bldg-108671']), len(cpq_business.loc[cpq_business['Building ID'] == 'Bldg-108671'])"
   ]
  },
  {
   "cell_type": "code",
   "execution_count": 171,
   "metadata": {
    "collapsed": false
   },
   "outputs": [
    {
     "data": {
      "text/plain": [
       "array(['Bldg-065056', 'Bldg-012582', 'Bldg-038069', ..., 'Bldg-122081',\n",
       "       'Bldg-115638', 'Bldg-525138'], dtype=object)"
      ]
     },
     "execution_count": 171,
     "metadata": {},
     "output_type": "execute_result"
    }
   ],
   "source": [
    "cpq_business['Building ID'] = cpq_business['Building ID'].apply(str)\n",
    "cpq_business['Building ID'].unique()"
   ]
  },
  {
   "cell_type": "markdown",
   "metadata": {},
   "source": [
    "### Select only those records that are not on Zayo Network"
   ]
  },
  {
   "cell_type": "code",
   "execution_count": 172,
   "metadata": {
    "collapsed": false
   },
   "outputs": [],
   "source": [
    "cpq_status = cpq_business.loc[cpq_business['On Zayo Network Status'] == 'Not on Zayo Network']"
   ]
  },
  {
   "cell_type": "code",
   "execution_count": 173,
   "metadata": {
    "collapsed": false
   },
   "outputs": [],
   "source": [
    "cpq_status.rename(columns={' X36 MRC List ': 'X36 MRC', ' X36 NRR List ': 'X36 NRR', ' X36 NPV List ': 'X36 NPV'}, inplace=True)"
   ]
  },
  {
   "cell_type": "markdown",
   "metadata": {},
   "source": [
    "### Get price in numbers"
   ]
  },
  {
   "cell_type": "code",
   "execution_count": 174,
   "metadata": {
    "collapsed": false
   },
   "outputs": [
    {
     "data": {
      "text/html": [
       "<div>\n",
       "<table border=\"1\" class=\"dataframe\">\n",
       "  <thead>\n",
       "    <tr style=\"text-align: right;\">\n",
       "      <th></th>\n",
       "      <th>CPQ ID</th>\n",
       "      <th>Account ID</th>\n",
       "      <th>CreatedDate</th>\n",
       "      <th>Product Group</th>\n",
       "      <th>X36 MRC</th>\n",
       "      <th>X36 NRR</th>\n",
       "      <th>X36 NPV</th>\n",
       "      <th>Building ID</th>\n",
       "      <th>Market</th>\n",
       "      <th>Street Address</th>\n",
       "      <th>City</th>\n",
       "      <th>State</th>\n",
       "      <th>Postal Code</th>\n",
       "      <th>Network Proximity</th>\n",
       "      <th>On Zayo Network Status</th>\n",
       "      <th>Latitude</th>\n",
       "      <th>Longitude</th>\n",
       "      <th>Net Classification</th>\n",
       "      <th>Type</th>\n",
       "      <th>Estimated Build Cost</th>\n",
       "    </tr>\n",
       "  </thead>\n",
       "  <tbody>\n",
       "    <tr>\n",
       "      <th>497</th>\n",
       "      <td>CPQ-009426</td>\n",
       "      <td>Acct-000024</td>\n",
       "      <td>2016-07-01</td>\n",
       "      <td>IP Services</td>\n",
       "      <td>3469.99</td>\n",
       "      <td>922.0</td>\n",
       "      <td>28433.59</td>\n",
       "      <td>Bldg-449138</td>\n",
       "      <td>Dallas</td>\n",
       "      <td>15050 Trinity Blvd</td>\n",
       "      <td>Fort Worth</td>\n",
       "      <td>TX</td>\n",
       "      <td>76155</td>\n",
       "      <td>1795.08</td>\n",
       "      <td>Not on Zayo Network</td>\n",
       "      <td>32.820624</td>\n",
       "      <td>-97.040988</td>\n",
       "      <td>Fiber Only</td>\n",
       "      <td>Office - Multi Tenant</td>\n",
       "      <td>56877.0</td>\n",
       "    </tr>\n",
       "    <tr>\n",
       "      <th>1501</th>\n",
       "      <td>CPQ-009421</td>\n",
       "      <td>Acct-000039</td>\n",
       "      <td>2016-07-01</td>\n",
       "      <td>Ethernet</td>\n",
       "      <td>1543.49</td>\n",
       "      <td>461.0</td>\n",
       "      <td>10914.50</td>\n",
       "      <td>Bldg-133508</td>\n",
       "      <td>Dallas</td>\n",
       "      <td>5101 Statesman Dr</td>\n",
       "      <td>Irving</td>\n",
       "      <td>TX</td>\n",
       "      <td>75063</td>\n",
       "      <td>607.02</td>\n",
       "      <td>Not on Zayo Network</td>\n",
       "      <td>32.935867</td>\n",
       "      <td>-97.017868</td>\n",
       "      <td>On-Net</td>\n",
       "      <td>Office - Single Tenant</td>\n",
       "      <td>27175.5</td>\n",
       "    </tr>\n",
       "    <tr>\n",
       "      <th>1502</th>\n",
       "      <td>CPQ-009604</td>\n",
       "      <td>Acct-000074</td>\n",
       "      <td>2016-07-06</td>\n",
       "      <td>Ethernet</td>\n",
       "      <td>1543.49</td>\n",
       "      <td>461.0</td>\n",
       "      <td>10914.50</td>\n",
       "      <td>Bldg-133508</td>\n",
       "      <td>Dallas</td>\n",
       "      <td>5101 Statesman Dr</td>\n",
       "      <td>Irving</td>\n",
       "      <td>TX</td>\n",
       "      <td>75063</td>\n",
       "      <td>607.02</td>\n",
       "      <td>Not on Zayo Network</td>\n",
       "      <td>32.935867</td>\n",
       "      <td>-97.017868</td>\n",
       "      <td>On-Net</td>\n",
       "      <td>Office - Single Tenant</td>\n",
       "      <td>27175.5</td>\n",
       "    </tr>\n",
       "    <tr>\n",
       "      <th>1503</th>\n",
       "      <td>CPQ-010600</td>\n",
       "      <td>Acct-000114</td>\n",
       "      <td>2016-08-02</td>\n",
       "      <td>Ethernet</td>\n",
       "      <td>1543.49</td>\n",
       "      <td>461.0</td>\n",
       "      <td>10914.50</td>\n",
       "      <td>Bldg-133508</td>\n",
       "      <td>Dallas</td>\n",
       "      <td>5101 Statesman Dr</td>\n",
       "      <td>Irving</td>\n",
       "      <td>TX</td>\n",
       "      <td>75063</td>\n",
       "      <td>607.02</td>\n",
       "      <td>Not on Zayo Network</td>\n",
       "      <td>32.935867</td>\n",
       "      <td>-97.017868</td>\n",
       "      <td>On-Net</td>\n",
       "      <td>Office - Single Tenant</td>\n",
       "      <td>27175.5</td>\n",
       "    </tr>\n",
       "    <tr>\n",
       "      <th>1504</th>\n",
       "      <td>CPQ-001441</td>\n",
       "      <td>Acct-000034</td>\n",
       "      <td>2016-11-03</td>\n",
       "      <td>Ethernet</td>\n",
       "      <td>1543.49</td>\n",
       "      <td>461.0</td>\n",
       "      <td>10914.50</td>\n",
       "      <td>Bldg-133508</td>\n",
       "      <td>Dallas</td>\n",
       "      <td>5101 Statesman Dr</td>\n",
       "      <td>Irving</td>\n",
       "      <td>TX</td>\n",
       "      <td>75063</td>\n",
       "      <td>607.02</td>\n",
       "      <td>Not on Zayo Network</td>\n",
       "      <td>32.935867</td>\n",
       "      <td>-97.017868</td>\n",
       "      <td>On-Net</td>\n",
       "      <td>Office - Single Tenant</td>\n",
       "      <td>27175.5</td>\n",
       "    </tr>\n",
       "  </tbody>\n",
       "</table>\n",
       "</div>"
      ],
      "text/plain": [
       "          CPQ ID   Account ID CreatedDate Product Group  X36 MRC  X36 NRR  \\\n",
       "497   CPQ-009426  Acct-000024  2016-07-01   IP Services  3469.99    922.0   \n",
       "1501  CPQ-009421  Acct-000039  2016-07-01      Ethernet  1543.49    461.0   \n",
       "1502  CPQ-009604  Acct-000074  2016-07-06      Ethernet  1543.49    461.0   \n",
       "1503  CPQ-010600  Acct-000114  2016-08-02      Ethernet  1543.49    461.0   \n",
       "1504  CPQ-001441  Acct-000034  2016-11-03      Ethernet  1543.49    461.0   \n",
       "\n",
       "       X36 NPV  Building ID  Market      Street Address        City State  \\\n",
       "497   28433.59  Bldg-449138  Dallas  15050 Trinity Blvd  Fort Worth    TX   \n",
       "1501  10914.50  Bldg-133508  Dallas   5101 Statesman Dr      Irving    TX   \n",
       "1502  10914.50  Bldg-133508  Dallas   5101 Statesman Dr      Irving    TX   \n",
       "1503  10914.50  Bldg-133508  Dallas   5101 Statesman Dr      Irving    TX   \n",
       "1504  10914.50  Bldg-133508  Dallas   5101 Statesman Dr      Irving    TX   \n",
       "\n",
       "     Postal Code  Network Proximity On Zayo Network Status   Latitude  \\\n",
       "497        76155            1795.08    Not on Zayo Network  32.820624   \n",
       "1501       75063             607.02    Not on Zayo Network  32.935867   \n",
       "1502       75063             607.02    Not on Zayo Network  32.935867   \n",
       "1503       75063             607.02    Not on Zayo Network  32.935867   \n",
       "1504       75063             607.02    Not on Zayo Network  32.935867   \n",
       "\n",
       "      Longitude Net Classification                    Type  \\\n",
       "497  -97.040988         Fiber Only   Office - Multi Tenant   \n",
       "1501 -97.017868             On-Net  Office - Single Tenant   \n",
       "1502 -97.017868             On-Net  Office - Single Tenant   \n",
       "1503 -97.017868             On-Net  Office - Single Tenant   \n",
       "1504 -97.017868             On-Net  Office - Single Tenant   \n",
       "\n",
       "       Estimated Build Cost   \n",
       "497                  56877.0  \n",
       "1501                 27175.5  \n",
       "1502                 27175.5  \n",
       "1503                 27175.5  \n",
       "1504                 27175.5  "
      ]
     },
     "execution_count": 174,
     "metadata": {},
     "output_type": "execute_result"
    }
   ],
   "source": [
    "cpq_status['X36 MRC'] = cpq_status['X36 MRC'].replace('[\\$,)]','',regex=True).astype(float)\n",
    "cpq_status['X36 NRR'] = cpq_status['X36 NRR'].str.replace(r'[$,]', '')\n",
    "cpq_status['X36 NRR'] = cpq_status['X36 NRR'].str.replace('-', '0')\n",
    "cpq_status['X36 NPV'] = cpq_status['X36 NPV'].str.replace(r'[$,]', '')\n",
    "cpq_status['X36 NPV'] = cpq_status['X36 NPV'].str.replace('-', '0')\n",
    "cpq_status[['X36 NRR','X36 NPV']] = cpq_status[['X36 NRR','X36 NPV']].apply(pd.to_numeric)\n",
    "cpq_status[' Estimated Build Cost '] = cpq_status[' Estimated Build Cost '].replace('[\\$,)]','',regex=True).astype(float)\n",
    "cpq_status.head()"
   ]
  },
  {
   "cell_type": "code",
   "execution_count": 175,
   "metadata": {
    "collapsed": false
   },
   "outputs": [
    {
     "data": {
      "text/plain": [
       "794"
      ]
     },
     "execution_count": 175,
     "metadata": {},
     "output_type": "execute_result"
    }
   ],
   "source": [
    "len(cpq_status['Building ID'].unique())"
   ]
  },
  {
   "cell_type": "markdown",
   "metadata": {},
   "source": [
    "### Filter out the records based on the state"
   ]
  },
  {
   "cell_type": "code",
   "execution_count": 176,
   "metadata": {
    "collapsed": false
   },
   "outputs": [],
   "source": [
    "cpq_CO = cpq_status.loc[cpq_status['State'] == 'CO']\n",
    "cpq_TX = cpq_status.loc[cpq_status['State'] == 'TX']\n",
    "cpq_GA = cpq_status.loc[cpq_status['State'] == 'GA']"
   ]
  },
  {
   "cell_type": "markdown",
   "metadata": {},
   "source": [
    "### For each individual state, calculate the profit incurred by each building"
   ]
  },
  {
   "cell_type": "code",
   "execution_count": 177,
   "metadata": {
    "collapsed": false
   },
   "outputs": [],
   "source": [
    "CO_profit = cpq_CO.groupby(cpq_CO['Building ID'])['X36 NPV'].sum().reset_index()\n",
    "CO_profit.sort_values(by='Building ID', inplace=True)\n",
    "TX_profit = cpq_TX.groupby(cpq_TX['Building ID'])['X36 NPV'].sum().reset_index()\n",
    "TX_profit.sort_values(by='Building ID', inplace=True)\n",
    "GA_profit = cpq_GA.groupby(cpq_GA['Building ID'])['X36 NPV'].sum().reset_index()\n",
    "GA_profit.sort_values(by='Building ID', inplace=True)"
   ]
  },
  {
   "cell_type": "markdown",
   "metadata": {},
   "source": [
    "### For each building, get the total number of accounts associated with the building"
   ]
  },
  {
   "cell_type": "code",
   "execution_count": 178,
   "metadata": {
    "collapsed": true
   },
   "outputs": [],
   "source": [
    "CO_accounts = cpq_CO.groupby(cpq_CO['Building ID'])['Account ID'].count().reset_index()\n",
    "CO_accounts.sort_values(by='Building ID', inplace=True)\n",
    "TX_accounts = cpq_TX.groupby(cpq_TX['Building ID'])['Account ID'].count().reset_index()\n",
    "TX_accounts.sort_values(by='Building ID', inplace=True)\n",
    "GA_accounts = cpq_GA.groupby(cpq_GA['Building ID'])['Account ID'].count().reset_index()\n",
    "GA_accounts.sort_values(by='Building ID', inplace=True)"
   ]
  },
  {
   "cell_type": "code",
   "execution_count": 179,
   "metadata": {
    "collapsed": false
   },
   "outputs": [
    {
     "data": {
      "text/html": [
       "<div>\n",
       "<table border=\"1\" class=\"dataframe\">\n",
       "  <thead>\n",
       "    <tr style=\"text-align: right;\">\n",
       "      <th></th>\n",
       "      <th>Building ID</th>\n",
       "      <th>Account ID</th>\n",
       "    </tr>\n",
       "  </thead>\n",
       "  <tbody>\n",
       "    <tr>\n",
       "      <th>0</th>\n",
       "      <td>Bldg-059940</td>\n",
       "      <td>2</td>\n",
       "    </tr>\n",
       "    <tr>\n",
       "      <th>1</th>\n",
       "      <td>Bldg-068378</td>\n",
       "      <td>1</td>\n",
       "    </tr>\n",
       "    <tr>\n",
       "      <th>2</th>\n",
       "      <td>Bldg-074834</td>\n",
       "      <td>1</td>\n",
       "    </tr>\n",
       "    <tr>\n",
       "      <th>3</th>\n",
       "      <td>Bldg-081662</td>\n",
       "      <td>4</td>\n",
       "    </tr>\n",
       "    <tr>\n",
       "      <th>4</th>\n",
       "      <td>Bldg-082112</td>\n",
       "      <td>3</td>\n",
       "    </tr>\n",
       "  </tbody>\n",
       "</table>\n",
       "</div>"
      ],
      "text/plain": [
       "   Building ID  Account ID\n",
       "0  Bldg-059940           2\n",
       "1  Bldg-068378           1\n",
       "2  Bldg-074834           1\n",
       "3  Bldg-081662           4\n",
       "4  Bldg-082112           3"
      ]
     },
     "execution_count": 179,
     "metadata": {},
     "output_type": "execute_result"
    }
   ],
   "source": [
    "CO_accounts.head()"
   ]
  },
  {
   "cell_type": "markdown",
   "metadata": {},
   "source": [
    "### Get the estimated build cost for each state"
   ]
  },
  {
   "cell_type": "code",
   "execution_count": 180,
   "metadata": {
    "collapsed": false
   },
   "outputs": [],
   "source": [
    "build_cost_CO = cpq_CO.groupby(['Building ID',' Estimated Build Cost ']).size().reset_index().rename(columns={0:'count'})\n",
    "build_cost_TX = cpq_TX.groupby(['Building ID',' Estimated Build Cost ']).size().reset_index().rename(columns={0:'count'})\n",
    "build_cost_GA = cpq_GA.groupby(['Building ID',' Estimated Build Cost ']).size().reset_index().rename(columns={0:'count'})"
   ]
  },
  {
   "cell_type": "markdown",
   "metadata": {},
   "source": [
    "### Total profit = Profit incurred by each building - Estimated build cost"
   ]
  },
  {
   "cell_type": "code",
   "execution_count": 181,
   "metadata": {
    "collapsed": false
   },
   "outputs": [],
   "source": [
    "CO_profit['Estimated Build Cost'] = build_cost_CO[' Estimated Build Cost ']\n",
    "CO_profit['Profit Including Build Cost'] = CO_profit['X36 NPV'] - CO_profit['Estimated Build Cost']\n",
    "CO_profit['Number of Accounts'] = CO_accounts['Account ID']"
   ]
  },
  {
   "cell_type": "code",
   "execution_count": 182,
   "metadata": {
    "collapsed": false
   },
   "outputs": [],
   "source": [
    "TX_profit['Estimated Build Cost'] = build_cost_TX[' Estimated Build Cost ']\n",
    "TX_profit['Profit Including Build Cost'] = TX_profit['X36 NPV'] - TX_profit['Estimated Build Cost']\n",
    "TX_profit['Number of Accounts'] = TX_accounts['Account ID']"
   ]
  },
  {
   "cell_type": "code",
   "execution_count": 183,
   "metadata": {
    "collapsed": true
   },
   "outputs": [],
   "source": [
    "GA_profit['Estimated Build Cost'] = build_cost_GA[' Estimated Build Cost ']\n",
    "GA_profit['Profit Including Build Cost'] = GA_profit['X36 NPV'] - GA_profit['Estimated Build Cost']\n",
    "GA_profit['Number of Accounts'] = GA_accounts['Account ID']"
   ]
  },
  {
   "cell_type": "code",
   "execution_count": 184,
   "metadata": {
    "collapsed": false
   },
   "outputs": [],
   "source": [
    "CO_profit.sort_values(by='Profit Including Build Cost', ascending=False, inplace=True)\n",
    "TX_profit.sort_values(by='Profit Including Build Cost', ascending=False, inplace=True)\n",
    "GA_profit.sort_values(by='Profit Including Build Cost', ascending=False, inplace=True)"
   ]
  },
  {
   "cell_type": "code",
   "execution_count": 185,
   "metadata": {
    "collapsed": false
   },
   "outputs": [
    {
     "data": {
      "text/html": [
       "<div>\n",
       "<table border=\"1\" class=\"dataframe\">\n",
       "  <thead>\n",
       "    <tr style=\"text-align: right;\">\n",
       "      <th></th>\n",
       "      <th>Building ID</th>\n",
       "      <th>X36 NPV</th>\n",
       "      <th>Estimated Build Cost</th>\n",
       "      <th>Profit Including Build Cost</th>\n",
       "      <th>Number of Accounts</th>\n",
       "    </tr>\n",
       "  </thead>\n",
       "  <tbody>\n",
       "    <tr>\n",
       "      <th>160</th>\n",
       "      <td>Bldg-430143</td>\n",
       "      <td>480159.37</td>\n",
       "      <td>35981.5</td>\n",
       "      <td>444177.87</td>\n",
       "      <td>4</td>\n",
       "    </tr>\n",
       "    <tr>\n",
       "      <th>253</th>\n",
       "      <td>Bldg-519433</td>\n",
       "      <td>357294.76</td>\n",
       "      <td>14366.5</td>\n",
       "      <td>342928.26</td>\n",
       "      <td>1</td>\n",
       "    </tr>\n",
       "    <tr>\n",
       "      <th>86</th>\n",
       "      <td>Bldg-158872</td>\n",
       "      <td>319506.62</td>\n",
       "      <td>22971.4</td>\n",
       "      <td>296535.22</td>\n",
       "      <td>2</td>\n",
       "    </tr>\n",
       "    <tr>\n",
       "      <th>81</th>\n",
       "      <td>Bldg-158866</td>\n",
       "      <td>334458.16</td>\n",
       "      <td>49844.5</td>\n",
       "      <td>284613.66</td>\n",
       "      <td>3</td>\n",
       "    </tr>\n",
       "    <tr>\n",
       "      <th>128</th>\n",
       "      <td>Bldg-266860</td>\n",
       "      <td>242771.91</td>\n",
       "      <td>18408.4</td>\n",
       "      <td>224363.51</td>\n",
       "      <td>5</td>\n",
       "    </tr>\n",
       "  </tbody>\n",
       "</table>\n",
       "</div>"
      ],
      "text/plain": [
       "     Building ID    X36 NPV  Estimated Build Cost  \\\n",
       "160  Bldg-430143  480159.37               35981.5   \n",
       "253  Bldg-519433  357294.76               14366.5   \n",
       "86   Bldg-158872  319506.62               22971.4   \n",
       "81   Bldg-158866  334458.16               49844.5   \n",
       "128  Bldg-266860  242771.91               18408.4   \n",
       "\n",
       "     Profit Including Build Cost  Number of Accounts  \n",
       "160                    444177.87                   4  \n",
       "253                    342928.26                   1  \n",
       "86                     296535.22                   2  \n",
       "81                     284613.66                   3  \n",
       "128                    224363.51                   5  "
      ]
     },
     "execution_count": 185,
     "metadata": {},
     "output_type": "execute_result"
    }
   ],
   "source": [
    "CO_profit.head()"
   ]
  },
  {
   "cell_type": "code",
   "execution_count": 186,
   "metadata": {
    "collapsed": false
   },
   "outputs": [
    {
     "data": {
      "text/html": [
       "<div>\n",
       "<table border=\"1\" class=\"dataframe\">\n",
       "  <thead>\n",
       "    <tr style=\"text-align: right;\">\n",
       "      <th></th>\n",
       "      <th>Building ID</th>\n",
       "      <th>X36 NPV</th>\n",
       "      <th>Estimated Build Cost</th>\n",
       "      <th>Profit Including Build Cost</th>\n",
       "      <th>Number of Accounts</th>\n",
       "    </tr>\n",
       "  </thead>\n",
       "  <tbody>\n",
       "    <tr>\n",
       "      <th>114</th>\n",
       "      <td>Bldg-386004</td>\n",
       "      <td>392308.73</td>\n",
       "      <td>62026.25</td>\n",
       "      <td>330282.48</td>\n",
       "      <td>7</td>\n",
       "    </tr>\n",
       "    <tr>\n",
       "      <th>21</th>\n",
       "      <td>Bldg-118398</td>\n",
       "      <td>277511.02</td>\n",
       "      <td>25200.60</td>\n",
       "      <td>252310.42</td>\n",
       "      <td>1</td>\n",
       "    </tr>\n",
       "    <tr>\n",
       "      <th>94</th>\n",
       "      <td>Bldg-293930</td>\n",
       "      <td>254597.79</td>\n",
       "      <td>19360.20</td>\n",
       "      <td>235237.59</td>\n",
       "      <td>3</td>\n",
       "    </tr>\n",
       "    <tr>\n",
       "      <th>58</th>\n",
       "      <td>Bldg-139825</td>\n",
       "      <td>262124.91</td>\n",
       "      <td>29809.80</td>\n",
       "      <td>232315.11</td>\n",
       "      <td>16</td>\n",
       "    </tr>\n",
       "    <tr>\n",
       "      <th>105</th>\n",
       "      <td>Bldg-366026</td>\n",
       "      <td>260224.38</td>\n",
       "      <td>37675.00</td>\n",
       "      <td>222549.38</td>\n",
       "      <td>1</td>\n",
       "    </tr>\n",
       "  </tbody>\n",
       "</table>\n",
       "</div>"
      ],
      "text/plain": [
       "     Building ID    X36 NPV  Estimated Build Cost  \\\n",
       "114  Bldg-386004  392308.73              62026.25   \n",
       "21   Bldg-118398  277511.02              25200.60   \n",
       "94   Bldg-293930  254597.79              19360.20   \n",
       "58   Bldg-139825  262124.91              29809.80   \n",
       "105  Bldg-366026  260224.38              37675.00   \n",
       "\n",
       "     Profit Including Build Cost  Number of Accounts  \n",
       "114                    330282.48                   7  \n",
       "21                     252310.42                   1  \n",
       "94                     235237.59                   3  \n",
       "58                     232315.11                  16  \n",
       "105                    222549.38                   1  "
      ]
     },
     "execution_count": 186,
     "metadata": {},
     "output_type": "execute_result"
    }
   ],
   "source": [
    "TX_profit.head()"
   ]
  },
  {
   "cell_type": "code",
   "execution_count": 187,
   "metadata": {
    "collapsed": false
   },
   "outputs": [
    {
     "data": {
      "text/html": [
       "<div>\n",
       "<table border=\"1\" class=\"dataframe\">\n",
       "  <thead>\n",
       "    <tr style=\"text-align: right;\">\n",
       "      <th></th>\n",
       "      <th>Building ID</th>\n",
       "      <th>X36 NPV</th>\n",
       "      <th>Estimated Build Cost</th>\n",
       "      <th>Profit Including Build Cost</th>\n",
       "      <th>Number of Accounts</th>\n",
       "    </tr>\n",
       "  </thead>\n",
       "  <tbody>\n",
       "    <tr>\n",
       "      <th>57</th>\n",
       "      <td>Bldg-115684</td>\n",
       "      <td>632439.00</td>\n",
       "      <td>24570.70</td>\n",
       "      <td>607868.30</td>\n",
       "      <td>18</td>\n",
       "    </tr>\n",
       "    <tr>\n",
       "      <th>100</th>\n",
       "      <td>Bldg-233683</td>\n",
       "      <td>508875.91</td>\n",
       "      <td>69739.12</td>\n",
       "      <td>439136.79</td>\n",
       "      <td>9</td>\n",
       "    </tr>\n",
       "    <tr>\n",
       "      <th>33</th>\n",
       "      <td>Bldg-070188</td>\n",
       "      <td>426020.76</td>\n",
       "      <td>67006.72</td>\n",
       "      <td>359014.04</td>\n",
       "      <td>3</td>\n",
       "    </tr>\n",
       "    <tr>\n",
       "      <th>32</th>\n",
       "      <td>Bldg-068834</td>\n",
       "      <td>386640.77</td>\n",
       "      <td>65354.08</td>\n",
       "      <td>321286.69</td>\n",
       "      <td>9</td>\n",
       "    </tr>\n",
       "    <tr>\n",
       "      <th>54</th>\n",
       "      <td>Bldg-115607</td>\n",
       "      <td>330542.80</td>\n",
       "      <td>18107.80</td>\n",
       "      <td>312435.00</td>\n",
       "      <td>1</td>\n",
       "    </tr>\n",
       "  </tbody>\n",
       "</table>\n",
       "</div>"
      ],
      "text/plain": [
       "     Building ID    X36 NPV  Estimated Build Cost  \\\n",
       "57   Bldg-115684  632439.00              24570.70   \n",
       "100  Bldg-233683  508875.91              69739.12   \n",
       "33   Bldg-070188  426020.76              67006.72   \n",
       "32   Bldg-068834  386640.77              65354.08   \n",
       "54   Bldg-115607  330542.80              18107.80   \n",
       "\n",
       "     Profit Including Build Cost  Number of Accounts  \n",
       "57                     607868.30                  18  \n",
       "100                    439136.79                   9  \n",
       "33                     359014.04                   3  \n",
       "32                     321286.69                   9  \n",
       "54                     312435.00                   1  "
      ]
     },
     "execution_count": 187,
     "metadata": {},
     "output_type": "execute_result"
    }
   ],
   "source": [
    "GA_profit.head()"
   ]
  },
  {
   "cell_type": "markdown",
   "metadata": {},
   "source": [
    "### Merge the profits dataframe with the original datafrae"
   ]
  },
  {
   "cell_type": "code",
   "execution_count": 188,
   "metadata": {
    "collapsed": false
   },
   "outputs": [],
   "source": [
    "co_buildings_latlong = pd.merge(CO_profit, cpq_status, on='Building ID', how='inner')\n",
    "tx_buildings_latlong = pd.merge(TX_profit, cpq_status, on='Building ID', how='inner')\n",
    "ga_buildings_latlong = pd.merge(GA_profit, cpq_status, on='Building ID', how='inner')"
   ]
  },
  {
   "cell_type": "code",
   "execution_count": 189,
   "metadata": {
    "collapsed": false
   },
   "outputs": [
    {
     "data": {
      "text/html": [
       "<div>\n",
       "<table border=\"1\" class=\"dataframe\">\n",
       "  <thead>\n",
       "    <tr style=\"text-align: right;\">\n",
       "      <th></th>\n",
       "      <th>Building ID</th>\n",
       "      <th>X36 NPV_x</th>\n",
       "      <th>Estimated Build Cost</th>\n",
       "      <th>Profit Including Build Cost</th>\n",
       "      <th>Number of Accounts</th>\n",
       "      <th>CPQ ID</th>\n",
       "      <th>Account ID</th>\n",
       "      <th>CreatedDate</th>\n",
       "      <th>Product Group</th>\n",
       "      <th>X36 MRC</th>\n",
       "      <th>...</th>\n",
       "      <th>City</th>\n",
       "      <th>State</th>\n",
       "      <th>Postal Code</th>\n",
       "      <th>Network Proximity</th>\n",
       "      <th>On Zayo Network Status</th>\n",
       "      <th>Latitude</th>\n",
       "      <th>Longitude</th>\n",
       "      <th>Net Classification</th>\n",
       "      <th>Type</th>\n",
       "      <th>Estimated Build Cost</th>\n",
       "    </tr>\n",
       "  </thead>\n",
       "  <tbody>\n",
       "    <tr>\n",
       "      <th>0</th>\n",
       "      <td>Bldg-430143</td>\n",
       "      <td>480159.37</td>\n",
       "      <td>35981.5</td>\n",
       "      <td>444177.87</td>\n",
       "      <td>4</td>\n",
       "      <td>CPQ-012244</td>\n",
       "      <td>Acct-000397</td>\n",
       "      <td>2016-09-08</td>\n",
       "      <td>Dark Fiber - Metro</td>\n",
       "      <td>7507.43</td>\n",
       "      <td>...</td>\n",
       "      <td>Denver</td>\n",
       "      <td>CO</td>\n",
       "      <td>80202</td>\n",
       "      <td>786.05</td>\n",
       "      <td>Not on Zayo Network</td>\n",
       "      <td>39.753224</td>\n",
       "      <td>-105.000157</td>\n",
       "      <td>On-Net</td>\n",
       "      <td>Office - Multi Tenant</td>\n",
       "      <td>35981.5</td>\n",
       "    </tr>\n",
       "    <tr>\n",
       "      <th>1</th>\n",
       "      <td>Bldg-430143</td>\n",
       "      <td>480159.37</td>\n",
       "      <td>35981.5</td>\n",
       "      <td>444177.87</td>\n",
       "      <td>4</td>\n",
       "      <td>CPQ-012406</td>\n",
       "      <td>Acct-000350</td>\n",
       "      <td>2016-09-13</td>\n",
       "      <td>Dark Fiber - Metro</td>\n",
       "      <td>7507.43</td>\n",
       "      <td>...</td>\n",
       "      <td>Denver</td>\n",
       "      <td>CO</td>\n",
       "      <td>80202</td>\n",
       "      <td>786.05</td>\n",
       "      <td>Not on Zayo Network</td>\n",
       "      <td>39.753224</td>\n",
       "      <td>-105.000157</td>\n",
       "      <td>On-Net</td>\n",
       "      <td>Office - Multi Tenant</td>\n",
       "      <td>35981.5</td>\n",
       "    </tr>\n",
       "    <tr>\n",
       "      <th>2</th>\n",
       "      <td>Bldg-430143</td>\n",
       "      <td>480159.37</td>\n",
       "      <td>35981.5</td>\n",
       "      <td>444177.87</td>\n",
       "      <td>4</td>\n",
       "      <td>CPQ-005682</td>\n",
       "      <td>Acct-000169</td>\n",
       "      <td>2017-01-05</td>\n",
       "      <td>Dark Fiber - Metro</td>\n",
       "      <td>7507.43</td>\n",
       "      <td>...</td>\n",
       "      <td>Denver</td>\n",
       "      <td>CO</td>\n",
       "      <td>80202</td>\n",
       "      <td>786.05</td>\n",
       "      <td>Not on Zayo Network</td>\n",
       "      <td>39.753224</td>\n",
       "      <td>-105.000157</td>\n",
       "      <td>On-Net</td>\n",
       "      <td>Office - Multi Tenant</td>\n",
       "      <td>35981.5</td>\n",
       "    </tr>\n",
       "    <tr>\n",
       "      <th>3</th>\n",
       "      <td>Bldg-430143</td>\n",
       "      <td>480159.37</td>\n",
       "      <td>35981.5</td>\n",
       "      <td>444177.87</td>\n",
       "      <td>4</td>\n",
       "      <td>CPQ-005767</td>\n",
       "      <td>Acct-000274</td>\n",
       "      <td>2017-01-06</td>\n",
       "      <td>Dark Fiber - Metro</td>\n",
       "      <td>7507.43</td>\n",
       "      <td>...</td>\n",
       "      <td>Denver</td>\n",
       "      <td>CO</td>\n",
       "      <td>80202</td>\n",
       "      <td>786.05</td>\n",
       "      <td>Not on Zayo Network</td>\n",
       "      <td>39.753224</td>\n",
       "      <td>-105.000157</td>\n",
       "      <td>On-Net</td>\n",
       "      <td>Office - Multi Tenant</td>\n",
       "      <td>35981.5</td>\n",
       "    </tr>\n",
       "    <tr>\n",
       "      <th>4</th>\n",
       "      <td>Bldg-519433</td>\n",
       "      <td>357294.76</td>\n",
       "      <td>14366.5</td>\n",
       "      <td>342928.26</td>\n",
       "      <td>1</td>\n",
       "      <td>CPQ-006575</td>\n",
       "      <td>Acct-000397</td>\n",
       "      <td>2017-02-28</td>\n",
       "      <td>Dark Fiber - Metro</td>\n",
       "      <td>15901.90</td>\n",
       "      <td>...</td>\n",
       "      <td>Denver</td>\n",
       "      <td>CO</td>\n",
       "      <td>80223</td>\n",
       "      <td>43.70</td>\n",
       "      <td>Not on Zayo Network</td>\n",
       "      <td>39.857676</td>\n",
       "      <td>-104.583343</td>\n",
       "      <td>Fiber Only</td>\n",
       "      <td>Splice Point</td>\n",
       "      <td>14366.5</td>\n",
       "    </tr>\n",
       "  </tbody>\n",
       "</table>\n",
       "<p>5 rows × 24 columns</p>\n",
       "</div>"
      ],
      "text/plain": [
       "   Building ID  X36 NPV_x  Estimated Build Cost  Profit Including Build Cost  \\\n",
       "0  Bldg-430143  480159.37               35981.5                    444177.87   \n",
       "1  Bldg-430143  480159.37               35981.5                    444177.87   \n",
       "2  Bldg-430143  480159.37               35981.5                    444177.87   \n",
       "3  Bldg-430143  480159.37               35981.5                    444177.87   \n",
       "4  Bldg-519433  357294.76               14366.5                    342928.26   \n",
       "\n",
       "   Number of Accounts      CPQ ID   Account ID CreatedDate  \\\n",
       "0                   4  CPQ-012244  Acct-000397  2016-09-08   \n",
       "1                   4  CPQ-012406  Acct-000350  2016-09-13   \n",
       "2                   4  CPQ-005682  Acct-000169  2017-01-05   \n",
       "3                   4  CPQ-005767  Acct-000274  2017-01-06   \n",
       "4                   1  CPQ-006575  Acct-000397  2017-02-28   \n",
       "\n",
       "        Product Group   X36 MRC           ...              City  State  \\\n",
       "0  Dark Fiber - Metro   7507.43           ...            Denver     CO   \n",
       "1  Dark Fiber - Metro   7507.43           ...            Denver     CO   \n",
       "2  Dark Fiber - Metro   7507.43           ...            Denver     CO   \n",
       "3  Dark Fiber - Metro   7507.43           ...            Denver     CO   \n",
       "4  Dark Fiber - Metro  15901.90           ...            Denver     CO   \n",
       "\n",
       "  Postal Code Network Proximity On Zayo Network Status   Latitude   Longitude  \\\n",
       "0       80202            786.05    Not on Zayo Network  39.753224 -105.000157   \n",
       "1       80202            786.05    Not on Zayo Network  39.753224 -105.000157   \n",
       "2       80202            786.05    Not on Zayo Network  39.753224 -105.000157   \n",
       "3       80202            786.05    Not on Zayo Network  39.753224 -105.000157   \n",
       "4       80223             43.70    Not on Zayo Network  39.857676 -104.583343   \n",
       "\n",
       "   Net Classification                   Type   Estimated Build Cost   \n",
       "0              On-Net  Office - Multi Tenant                 35981.5  \n",
       "1              On-Net  Office - Multi Tenant                 35981.5  \n",
       "2              On-Net  Office - Multi Tenant                 35981.5  \n",
       "3              On-Net  Office - Multi Tenant                 35981.5  \n",
       "4          Fiber Only           Splice Point                 14366.5  \n",
       "\n",
       "[5 rows x 24 columns]"
      ]
     },
     "execution_count": 189,
     "metadata": {},
     "output_type": "execute_result"
    }
   ],
   "source": [
    "co_buildings_latlong.head()"
   ]
  },
  {
   "cell_type": "markdown",
   "metadata": {},
   "source": [
    "### Generate the profits csv by combining the state dataframes. This csv would be used to generate the data table for the first visualization"
   ]
  },
  {
   "cell_type": "code",
   "execution_count": 190,
   "metadata": {
    "collapsed": false
   },
   "outputs": [],
   "source": [
    "co_buildings_latlong = co_buildings_latlong[['Building ID', 'X36 NPV_x', 'Estimated Build Cost', 'Profit Including Build Cost',\n",
    "                                            'Latitude', 'Longitude', 'State', 'Number of Accounts', 'Street Address',\n",
    "                                            'Postal Code', 'Net Classification', 'Type']]\n",
    "co_buildings_latlong.drop_duplicates(['Building ID'], inplace=True)\n",
    "tx_buildings_latlong = tx_buildings_latlong[['Building ID', 'X36 NPV_x', 'Estimated Build Cost', 'Profit Including Build Cost',\n",
    "                                            'Latitude', 'Longitude', 'State', 'Number of Accounts', 'Street Address',\n",
    "                                            'Postal Code', 'Net Classification', 'Type']]\n",
    "tx_buildings_latlong.drop_duplicates(['Building ID'], inplace=True)\n",
    "ga_buildings_latlong = ga_buildings_latlong[['Building ID', 'X36 NPV_x', 'Estimated Build Cost', 'Profit Including Build Cost',\n",
    "                                            'Latitude', 'Longitude', 'State', 'Number of Accounts', 'Street Address',\n",
    "                                            'Postal Code', 'Net Classification', 'Type']]\n",
    "ga_buildings_latlong.drop_duplicates(['Building ID'], inplace=True)"
   ]
  },
  {
   "cell_type": "code",
   "execution_count": 191,
   "metadata": {
    "collapsed": false
   },
   "outputs": [],
   "source": [
    "profits = pd.concat([co_buildings_latlong, tx_buildings_latlong, ga_buildings_latlong])"
   ]
  },
  {
   "cell_type": "code",
   "execution_count": 192,
   "metadata": {
    "collapsed": true
   },
   "outputs": [],
   "source": [
    "profits.to_csv('profits.csv')"
   ]
  },
  {
   "cell_type": "markdown",
   "metadata": {},
   "source": [
    "### Identify the total number of buildings for each state and write that to a csv"
   ]
  },
  {
   "cell_type": "code",
   "execution_count": 193,
   "metadata": {
    "collapsed": false
   },
   "outputs": [],
   "source": [
    "co_sum = CO_profit['Profit Including Build Cost'].sum()\n",
    "buildings_co = len(CO_profit)"
   ]
  },
  {
   "cell_type": "code",
   "execution_count": 194,
   "metadata": {
    "collapsed": false
   },
   "outputs": [],
   "source": [
    "tx_sum = TX_profit['Profit Including Build Cost'].sum()\n",
    "buildings_tx = len(TX_profit)"
   ]
  },
  {
   "cell_type": "code",
   "execution_count": 195,
   "metadata": {
    "collapsed": false
   },
   "outputs": [],
   "source": [
    "ga_sum = GA_profit['Profit Including Build Cost'].sum()\n",
    "buildings_ga = len(GA_profit)"
   ]
  },
  {
   "cell_type": "code",
   "execution_count": 196,
   "metadata": {
    "collapsed": false
   },
   "outputs": [],
   "source": [
    "import csv\n",
    "vals = [['CO', co_sum, buildings_co], ['TX', tx_sum, buildings_tx], ['GA', ga_sum, buildings_ga]]\n",
    "\n",
    "with open('profit_by_state.csv','wb') as f:\n",
    "    w = csv.writer(f)\n",
    "    w.writerow(['State','Total Profit', 'Number of Buildings'])\n",
    "    for v in vals:\n",
    "        w.writerow(v)"
   ]
  },
  {
   "cell_type": "code",
   "execution_count": null,
   "metadata": {
    "collapsed": true
   },
   "outputs": [],
   "source": []
  }
 ],
 "metadata": {
  "kernelspec": {
   "display_name": "Python 2",
   "language": "python",
   "name": "python2"
  },
  "language_info": {
   "codemirror_mode": {
    "name": "ipython",
    "version": 2
   },
   "file_extension": ".py",
   "mimetype": "text/x-python",
   "name": "python",
   "nbconvert_exporter": "python",
   "pygments_lexer": "ipython2",
   "version": "2.7.12+"
  }
 },
 "nbformat": 4,
 "nbformat_minor": 2
}
