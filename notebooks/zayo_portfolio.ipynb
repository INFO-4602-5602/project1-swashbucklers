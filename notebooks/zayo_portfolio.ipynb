{
 "cells": [
  {
   "cell_type": "code",
   "execution_count": 133,
   "metadata": {
    "collapsed": true
   },
   "outputs": [],
   "source": [
    "import pandas as pd\n",
    "import json\n",
    "import warnings\n",
    "from collections import defaultdict\n",
    "\n",
    "warnings.filterwarnings('ignore')"
   ]
  },
  {
   "cell_type": "code",
   "execution_count": 134,
   "metadata": {
    "collapsed": true
   },
   "outputs": [],
   "source": [
    "PATH = '../data/'\n",
    "accounts = pd.read_csv(PATH + 'ZayoHackathonData_Accounts.csv')"
   ]
  },
  {
   "cell_type": "code",
   "execution_count": 135,
   "metadata": {
    "collapsed": false
   },
   "outputs": [
    {
     "data": {
      "text/html": [
       "<div>\n",
       "<table border=\"1\" class=\"dataframe\">\n",
       "  <thead>\n",
       "    <tr style=\"text-align: right;\">\n",
       "      <th></th>\n",
       "      <th>Account ID</th>\n",
       "      <th>Industry</th>\n",
       "      <th>Vertical</th>\n",
       "      <th>Total BRR</th>\n",
       "      <th>AnnualRevenue</th>\n",
       "      <th>NumberOfEmployees</th>\n",
       "      <th>DandB Revenue</th>\n",
       "      <th>DandB Total Employees</th>\n",
       "    </tr>\n",
       "  </thead>\n",
       "  <tbody>\n",
       "    <tr>\n",
       "      <th>0</th>\n",
       "      <td>Acct-000273</td>\n",
       "      <td>Telecommunications</td>\n",
       "      <td>Wireless</td>\n",
       "      <td>$6,084,906.00</td>\n",
       "      <td>$248,747,365.62</td>\n",
       "      <td>397</td>\n",
       "      <td>$356,943,618.45</td>\n",
       "      <td>397</td>\n",
       "    </tr>\n",
       "    <tr>\n",
       "      <th>1</th>\n",
       "      <td>Acct-000013</td>\n",
       "      <td>Telecommunications</td>\n",
       "      <td>National Carrier/ISP</td>\n",
       "      <td>$5,117,529.00</td>\n",
       "      <td>$10,779,768,901.96</td>\n",
       "      <td>40000</td>\n",
       "      <td>$10,779,768,901.96</td>\n",
       "      <td>40000</td>\n",
       "    </tr>\n",
       "    <tr>\n",
       "      <th>2</th>\n",
       "      <td>Acct-000036</td>\n",
       "      <td>Telecommunications</td>\n",
       "      <td>Wireless</td>\n",
       "      <td>$5,105,015.00</td>\n",
       "      <td>$9,277,969,886.09</td>\n",
       "      <td>34518</td>\n",
       "      <td>$19,094,310,655.17</td>\n",
       "      <td>34518</td>\n",
       "    </tr>\n",
       "    <tr>\n",
       "      <th>3</th>\n",
       "      <td>Acct-000025</td>\n",
       "      <td>Telecommunications</td>\n",
       "      <td>National Carrier/ISP</td>\n",
       "      <td>$4,234,871.00</td>\n",
       "      <td>$6,248,394,000.00</td>\n",
       "      <td>10040</td>\n",
       "      <td>$7,587,138,000.00</td>\n",
       "      <td>12500</td>\n",
       "    </tr>\n",
       "    <tr>\n",
       "      <th>4</th>\n",
       "      <td>Acct-000004</td>\n",
       "      <td>Telecommunications</td>\n",
       "      <td>Wireless</td>\n",
       "      <td>$3,510,947.00</td>\n",
       "      <td>$29,669,960,000.00</td>\n",
       "      <td>30000</td>\n",
       "      <td>$32,588,090,000.00</td>\n",
       "      <td>30000</td>\n",
       "    </tr>\n",
       "  </tbody>\n",
       "</table>\n",
       "</div>"
      ],
      "text/plain": [
       "    Account ID            Industry              Vertical       Total BRR   \\\n",
       "0  Acct-000273  Telecommunications              Wireless   $6,084,906.00    \n",
       "1  Acct-000013  Telecommunications  National Carrier/ISP   $5,117,529.00    \n",
       "2  Acct-000036  Telecommunications              Wireless   $5,105,015.00    \n",
       "3  Acct-000025  Telecommunications  National Carrier/ISP   $4,234,871.00    \n",
       "4  Acct-000004  Telecommunications              Wireless   $3,510,947.00    \n",
       "\n",
       "         AnnualRevenue   NumberOfEmployees        DandB Revenue   \\\n",
       "0      $248,747,365.62                 397      $356,943,618.45    \n",
       "1   $10,779,768,901.96               40000   $10,779,768,901.96    \n",
       "2    $9,277,969,886.09               34518   $19,094,310,655.17    \n",
       "3    $6,248,394,000.00               10040    $7,587,138,000.00    \n",
       "4   $29,669,960,000.00               30000   $32,588,090,000.00    \n",
       "\n",
       "   DandB Total Employees  \n",
       "0                    397  \n",
       "1                  40000  \n",
       "2                  34518  \n",
       "3                  12500  \n",
       "4                  30000  "
      ]
     },
     "execution_count": 135,
     "metadata": {},
     "output_type": "execute_result"
    }
   ],
   "source": [
    "accounts.head()"
   ]
  },
  {
   "cell_type": "code",
   "execution_count": 136,
   "metadata": {
    "collapsed": false
   },
   "outputs": [],
   "source": [
    "accounts[' Total BRR '] = accounts[' Total BRR '].str.replace(r'[$,]', '')\n",
    "accounts[' Total BRR '] = accounts[' Total BRR '].str.replace('-', '0')\n",
    "accounts[' Total BRR '] = accounts[' Total BRR '].apply(pd.to_numeric)"
   ]
  },
  {
   "cell_type": "code",
   "execution_count": 137,
   "metadata": {
    "collapsed": true
   },
   "outputs": [],
   "source": [
    "accounts['Industry'] = accounts['Industry'].replace(['^Media/Content$'], ['Media & Content'], regex=True)\n",
    "accounts['Industry'] = accounts['Industry'].replace(['^Energy$'], ['Energy & Manufacturing'], regex=True)\n",
    "accounts['Industry'] = accounts['Industry'].replace(['^Manufacturing$'], ['Energy & Manufacturing'], regex=True)"
   ]
  },
  {
   "cell_type": "code",
   "execution_count": 138,
   "metadata": {
    "collapsed": false
   },
   "outputs": [],
   "source": [
    "industry_brr = accounts.groupby(['Industry', 'Vertical'])[' Total BRR '].sum()"
   ]
  },
  {
   "cell_type": "code",
   "execution_count": 139,
   "metadata": {
    "collapsed": false
   },
   "outputs": [],
   "source": [
    "industry_brr = pd.DataFrame(industry_brr).reset_index()"
   ]
  },
  {
   "cell_type": "code",
   "execution_count": 140,
   "metadata": {
    "collapsed": false
   },
   "outputs": [],
   "source": [
    "industry_dict = defaultdict(dict)\n",
    "\n",
    "for idx, val in industry_brr.iterrows():\n",
    "    industry_dict[val[0]][val[1]] = val[2]"
   ]
  },
  {
   "cell_type": "code",
   "execution_count": 141,
   "metadata": {
    "collapsed": true
   },
   "outputs": [],
   "source": [
    "with open('../processedData/result.json', 'w') as fp:\n",
    "    json.dump(industry_dict, fp)"
   ]
  },
  {
   "cell_type": "code",
   "execution_count": null,
   "metadata": {
    "collapsed": true
   },
   "outputs": [],
   "source": []
  }
 ],
 "metadata": {
  "kernelspec": {
   "display_name": "Python 2",
   "language": "python",
   "name": "python2"
  },
  "language_info": {
   "codemirror_mode": {
    "name": "ipython",
    "version": 2
   },
   "file_extension": ".py",
   "mimetype": "text/x-python",
   "name": "python",
   "nbconvert_exporter": "python",
   "pygments_lexer": "ipython2",
   "version": "2.7.12+"
  }
 },
 "nbformat": 4,
 "nbformat_minor": 2
}
