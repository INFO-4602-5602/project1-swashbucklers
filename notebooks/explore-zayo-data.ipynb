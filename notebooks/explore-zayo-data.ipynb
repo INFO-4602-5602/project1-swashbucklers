{
 "cells": [
  {
   "cell_type": "code",
   "execution_count": 1,
   "metadata": {
    "collapsed": true,
    "deletable": true,
    "editable": true
   },
   "outputs": [],
   "source": [
    "import pandas as pd\n",
    "import warnings\n",
    "from dateutil.parser import parse\n",
    "warnings.filterwarnings('ignore')\n",
    "import os.path"
   ]
  },
  {
   "cell_type": "markdown",
   "metadata": {
    "deletable": true,
    "editable": true
   },
   "source": [
    "### Load the buildings and cpq data"
   ]
  },
  {
   "cell_type": "code",
   "execution_count": 2,
   "metadata": {
    "collapsed": false,
    "deletable": true,
    "editable": true
   },
   "outputs": [],
   "source": [
    "PATH = '../data/'\n",
    "PROCESSED_PATH = '../processedData/'\n",
    "\n",
    "cpq = pd.read_csv(PATH + 'ZayoHackathonData_CPQs.csv')\n",
    "buildings = pd.read_csv(PATH + 'ZayoHackathonData_Buildings.csv')\n",
    "opportunities = pd.read_csv(PATH + 'ZayoHackathonData_Opportunities.csv')\n",
    "accounts = pd.read_csv(PATH + 'ZayoHackathonData_Accounts.csv')\n",
    "sites = pd.read_csv(PATH + 'ZayoHackathonData_Sites.csv')"
   ]
  },
  {
   "cell_type": "markdown",
   "metadata": {
    "deletable": true,
    "editable": true
   },
   "source": [
    "### drop rows that have duplicates on 'Account ID', 'Product Group', 'Building ID'"
   ]
  },
  {
   "cell_type": "code",
   "execution_count": 3,
   "metadata": {
    "collapsed": true,
    "deletable": true,
    "editable": true
   },
   "outputs": [],
   "source": [
    "cpq['CreatedDate'] = cpq['CreatedDate'].apply(lambda x : parse(x))\n",
    "cpq.sort_values(by='CreatedDate', inplace=True)\n",
    "cpq.drop_duplicates(['Account ID', 'Product Group', 'Building ID'], inplace=True)\n",
    "opportunities.drop_duplicates(['Account ID', 'Product Group', 'Building ID'], inplace=True)"
   ]
  },
  {
   "cell_type": "markdown",
   "metadata": {
    "deletable": true,
    "editable": true
   },
   "source": [
    "### Get the count of records by the attribute 'On Zayo Network Status'"
   ]
  },
  {
   "cell_type": "code",
   "execution_count": 4,
   "metadata": {
    "collapsed": false,
    "deletable": true,
    "editable": true
   },
   "outputs": [
    {
     "data": {
      "text/plain": [
       "On Zayo Network        5624\n",
       "Not on Zayo Network    1214\n",
       "Build in Progress        82\n",
       "Name: On Zayo Network Status, dtype: int64"
      ]
     },
     "execution_count": 4,
     "metadata": {},
     "output_type": "execute_result"
    }
   ],
   "source": [
    "cpq['On Zayo Network Status'].value_counts()"
   ]
  },
  {
   "cell_type": "code",
   "execution_count": 5,
   "metadata": {
    "collapsed": false,
    "deletable": true,
    "editable": true
   },
   "outputs": [
    {
     "data": {
      "text/plain": [
       "Index(['CPQ ID', 'Account ID', 'CreatedDate', 'Product Group',\n",
       "       ' X36 MRC List ', ' X36 NRR List ', ' X36 NPV List ', 'Building ID',\n",
       "       'Market', 'Street Address', 'City', 'State', 'Postal Code',\n",
       "       'Network Proximity', 'On Zayo Network Status'],\n",
       "      dtype='object')"
      ]
     },
     "execution_count": 5,
     "metadata": {},
     "output_type": "execute_result"
    }
   ],
   "source": [
    "cpq.columns"
   ]
  },
  {
   "cell_type": "markdown",
   "metadata": {
    "deletable": true,
    "editable": true
   },
   "source": [
    "### Merge the cpq and buildings by doing an inner join"
   ]
  },
  {
   "cell_type": "code",
   "execution_count": 6,
   "metadata": {
    "collapsed": false,
    "deletable": true,
    "editable": true
   },
   "outputs": [],
   "source": [
    "cpq_business = pd.merge(cpq, buildings, how='inner')"
   ]
  },
  {
   "cell_type": "code",
   "execution_count": 7,
   "metadata": {
    "collapsed": false,
    "deletable": true,
    "editable": true
   },
   "outputs": [
    {
     "data": {
      "text/html": [
       "<div>\n",
       "<table border=\"1\" class=\"dataframe\">\n",
       "  <thead>\n",
       "    <tr style=\"text-align: right;\">\n",
       "      <th></th>\n",
       "      <th>CPQ ID</th>\n",
       "      <th>Account ID</th>\n",
       "      <th>CreatedDate</th>\n",
       "      <th>Product Group</th>\n",
       "      <th>X36 MRC List</th>\n",
       "      <th>X36 NRR List</th>\n",
       "      <th>X36 NPV List</th>\n",
       "      <th>Building ID</th>\n",
       "      <th>Market</th>\n",
       "      <th>Street Address</th>\n",
       "      <th>City</th>\n",
       "      <th>State</th>\n",
       "      <th>Postal Code</th>\n",
       "      <th>Network Proximity</th>\n",
       "      <th>On Zayo Network Status</th>\n",
       "      <th>Latitude</th>\n",
       "      <th>Longitude</th>\n",
       "      <th>Net Classification</th>\n",
       "      <th>Type</th>\n",
       "      <th>Estimated Build Cost</th>\n",
       "    </tr>\n",
       "  </thead>\n",
       "  <tbody>\n",
       "    <tr>\n",
       "      <th>0</th>\n",
       "      <td>CPQ-009438</td>\n",
       "      <td>Acct-000469</td>\n",
       "      <td>2016-07-01</td>\n",
       "      <td>Wavelengths - Metro</td>\n",
       "      <td>$2,320.52</td>\n",
       "      <td>$3,227.00</td>\n",
       "      <td>$37,502.34</td>\n",
       "      <td>Bldg-065056</td>\n",
       "      <td>Dallas</td>\n",
       "      <td>2323 Bryan St</td>\n",
       "      <td>Dallas</td>\n",
       "      <td>TX</td>\n",
       "      <td>75201</td>\n",
       "      <td>64.67</td>\n",
       "      <td>On Zayo Network</td>\n",
       "      <td>32.787255</td>\n",
       "      <td>-96.794118</td>\n",
       "      <td>Fiber Only</td>\n",
       "      <td>Carrier Hotel</td>\n",
       "      <td>$15,880.20</td>\n",
       "    </tr>\n",
       "    <tr>\n",
       "      <th>1</th>\n",
       "      <td>CPQ-009494</td>\n",
       "      <td>Acct-000700</td>\n",
       "      <td>2016-07-05</td>\n",
       "      <td>Wavelengths - Long Haul</td>\n",
       "      <td>$2,791.26</td>\n",
       "      <td>$2,766.00</td>\n",
       "      <td>$-</td>\n",
       "      <td>Bldg-065056</td>\n",
       "      <td>Dallas</td>\n",
       "      <td>2323 Bryan St</td>\n",
       "      <td>Dallas</td>\n",
       "      <td>TX</td>\n",
       "      <td>75201</td>\n",
       "      <td>64.67</td>\n",
       "      <td>On Zayo Network</td>\n",
       "      <td>32.787255</td>\n",
       "      <td>-96.794118</td>\n",
       "      <td>Fiber Only</td>\n",
       "      <td>Carrier Hotel</td>\n",
       "      <td>$15,880.20</td>\n",
       "    </tr>\n",
       "    <tr>\n",
       "      <th>2</th>\n",
       "      <td>CPQ-009517</td>\n",
       "      <td>Acct-000043</td>\n",
       "      <td>2016-07-06</td>\n",
       "      <td>Ethernet</td>\n",
       "      <td>$1,078.38</td>\n",
       "      <td>$922.00</td>\n",
       "      <td>$21,228.45</td>\n",
       "      <td>Bldg-065056</td>\n",
       "      <td>Dallas</td>\n",
       "      <td>2323 Bryan St</td>\n",
       "      <td>Dallas</td>\n",
       "      <td>TX</td>\n",
       "      <td>75201</td>\n",
       "      <td>64.67</td>\n",
       "      <td>On Zayo Network</td>\n",
       "      <td>32.787255</td>\n",
       "      <td>-96.794118</td>\n",
       "      <td>Fiber Only</td>\n",
       "      <td>Carrier Hotel</td>\n",
       "      <td>$15,880.20</td>\n",
       "    </tr>\n",
       "    <tr>\n",
       "      <th>3</th>\n",
       "      <td>CPQ-009482</td>\n",
       "      <td>Acct-000069</td>\n",
       "      <td>2016-07-06</td>\n",
       "      <td>Ethernet</td>\n",
       "      <td>$910.98</td>\n",
       "      <td>$922.00</td>\n",
       "      <td>$16,035.62</td>\n",
       "      <td>Bldg-065056</td>\n",
       "      <td>Dallas</td>\n",
       "      <td>2323 Bryan St</td>\n",
       "      <td>Dallas</td>\n",
       "      <td>TX</td>\n",
       "      <td>75201</td>\n",
       "      <td>64.67</td>\n",
       "      <td>On Zayo Network</td>\n",
       "      <td>32.787255</td>\n",
       "      <td>-96.794118</td>\n",
       "      <td>Fiber Only</td>\n",
       "      <td>Carrier Hotel</td>\n",
       "      <td>$15,880.20</td>\n",
       "    </tr>\n",
       "    <tr>\n",
       "      <th>4</th>\n",
       "      <td>CPQ-009474</td>\n",
       "      <td>Acct-000019</td>\n",
       "      <td>2016-07-06</td>\n",
       "      <td>Wavelengths - Metro</td>\n",
       "      <td>$1,423.57</td>\n",
       "      <td>$2,766.00</td>\n",
       "      <td>$24,683.18</td>\n",
       "      <td>Bldg-065056</td>\n",
       "      <td>Dallas</td>\n",
       "      <td>2323 Bryan St</td>\n",
       "      <td>Dallas</td>\n",
       "      <td>TX</td>\n",
       "      <td>75201</td>\n",
       "      <td>64.67</td>\n",
       "      <td>On Zayo Network</td>\n",
       "      <td>32.787255</td>\n",
       "      <td>-96.794118</td>\n",
       "      <td>Fiber Only</td>\n",
       "      <td>Carrier Hotel</td>\n",
       "      <td>$15,880.20</td>\n",
       "    </tr>\n",
       "  </tbody>\n",
       "</table>\n",
       "</div>"
      ],
      "text/plain": [
       "       CPQ ID   Account ID CreatedDate            Product Group  \\\n",
       "0  CPQ-009438  Acct-000469  2016-07-01      Wavelengths - Metro   \n",
       "1  CPQ-009494  Acct-000700  2016-07-05  Wavelengths - Long Haul   \n",
       "2  CPQ-009517  Acct-000043  2016-07-06                 Ethernet   \n",
       "3  CPQ-009482  Acct-000069  2016-07-06                 Ethernet   \n",
       "4  CPQ-009474  Acct-000019  2016-07-06      Wavelengths - Metro   \n",
       "\n",
       "   X36 MRC List   X36 NRR List   X36 NPV List   Building ID  Market  \\\n",
       "0     $2,320.52      $3,227.00     $37,502.34   Bldg-065056  Dallas   \n",
       "1     $2,791.26      $2,766.00           $-     Bldg-065056  Dallas   \n",
       "2     $1,078.38        $922.00     $21,228.45   Bldg-065056  Dallas   \n",
       "3       $910.98        $922.00     $16,035.62   Bldg-065056  Dallas   \n",
       "4     $1,423.57      $2,766.00     $24,683.18   Bldg-065056  Dallas   \n",
       "\n",
       "  Street Address    City State Postal Code  Network Proximity  \\\n",
       "0  2323 Bryan St  Dallas    TX       75201              64.67   \n",
       "1  2323 Bryan St  Dallas    TX       75201              64.67   \n",
       "2  2323 Bryan St  Dallas    TX       75201              64.67   \n",
       "3  2323 Bryan St  Dallas    TX       75201              64.67   \n",
       "4  2323 Bryan St  Dallas    TX       75201              64.67   \n",
       "\n",
       "  On Zayo Network Status   Latitude  Longitude Net Classification  \\\n",
       "0        On Zayo Network  32.787255 -96.794118         Fiber Only   \n",
       "1        On Zayo Network  32.787255 -96.794118         Fiber Only   \n",
       "2        On Zayo Network  32.787255 -96.794118         Fiber Only   \n",
       "3        On Zayo Network  32.787255 -96.794118         Fiber Only   \n",
       "4        On Zayo Network  32.787255 -96.794118         Fiber Only   \n",
       "\n",
       "            Type  Estimated Build Cost   \n",
       "0  Carrier Hotel            $15,880.20   \n",
       "1  Carrier Hotel            $15,880.20   \n",
       "2  Carrier Hotel            $15,880.20   \n",
       "3  Carrier Hotel            $15,880.20   \n",
       "4  Carrier Hotel            $15,880.20   "
      ]
     },
     "execution_count": 7,
     "metadata": {},
     "output_type": "execute_result"
    }
   ],
   "source": [
    "cpq_business.head()"
   ]
  },
  {
   "cell_type": "code",
   "execution_count": 8,
   "metadata": {
    "collapsed": false,
    "deletable": true,
    "editable": true
   },
   "outputs": [],
   "source": [
    "# len(cpq.loc[cpq['Building ID'] == 'Bldg-108671']), len(cpq_business.loc[cpq_business['Building ID'] == 'Bldg-108671'])"
   ]
  },
  {
   "cell_type": "markdown",
   "metadata": {
    "deletable": true,
    "editable": true
   },
   "source": [
    "### converting the building ID to string values"
   ]
  },
  {
   "cell_type": "code",
   "execution_count": 9,
   "metadata": {
    "collapsed": false,
    "deletable": true,
    "editable": true
   },
   "outputs": [
    {
     "data": {
      "text/plain": [
       "array(['Bldg-065056', 'Bldg-012582', 'Bldg-038069', ..., 'Bldg-122081',\n",
       "       'Bldg-115638', 'Bldg-525138'], dtype=object)"
      ]
     },
     "execution_count": 9,
     "metadata": {},
     "output_type": "execute_result"
    }
   ],
   "source": [
    "cpq_business['Building ID'] = cpq_business['Building ID'].apply(str)\n",
    "cpq_business['Building ID'].unique()"
   ]
  },
  {
   "cell_type": "markdown",
   "metadata": {
    "deletable": true,
    "editable": true
   },
   "source": [
    "### Select only those records that are not on Zayo Network"
   ]
  },
  {
   "cell_type": "code",
   "execution_count": 10,
   "metadata": {
    "collapsed": false,
    "deletable": true,
    "editable": true
   },
   "outputs": [],
   "source": [
    "cpq_status = cpq_business.loc[cpq_business['On Zayo Network Status'] == 'Not on Zayo Network']"
   ]
  },
  {
   "cell_type": "code",
   "execution_count": 11,
   "metadata": {
    "collapsed": false,
    "deletable": true,
    "editable": true
   },
   "outputs": [],
   "source": [
    "cpq_status.rename(columns={' X36 MRC List ': 'X36 MRC', ' X36 NRR List ': 'X36 NRR', ' X36 NPV List ': 'X36 NPV'}, inplace=True)"
   ]
  },
  {
   "cell_type": "markdown",
   "metadata": {
    "deletable": true,
    "editable": true
   },
   "source": [
    "### Get price in numbers"
   ]
  },
  {
   "cell_type": "code",
   "execution_count": 12,
   "metadata": {
    "collapsed": false,
    "deletable": true,
    "editable": true
   },
   "outputs": [
    {
     "data": {
      "text/html": [
       "<div>\n",
       "<table border=\"1\" class=\"dataframe\">\n",
       "  <thead>\n",
       "    <tr style=\"text-align: right;\">\n",
       "      <th></th>\n",
       "      <th>CPQ ID</th>\n",
       "      <th>Account ID</th>\n",
       "      <th>CreatedDate</th>\n",
       "      <th>Product Group</th>\n",
       "      <th>X36 MRC</th>\n",
       "      <th>X36 NRR</th>\n",
       "      <th>X36 NPV</th>\n",
       "      <th>Building ID</th>\n",
       "      <th>Market</th>\n",
       "      <th>Street Address</th>\n",
       "      <th>City</th>\n",
       "      <th>State</th>\n",
       "      <th>Postal Code</th>\n",
       "      <th>Network Proximity</th>\n",
       "      <th>On Zayo Network Status</th>\n",
       "      <th>Latitude</th>\n",
       "      <th>Longitude</th>\n",
       "      <th>Net Classification</th>\n",
       "      <th>Type</th>\n",
       "      <th>Estimated Build Cost</th>\n",
       "    </tr>\n",
       "  </thead>\n",
       "  <tbody>\n",
       "    <tr>\n",
       "      <th>497</th>\n",
       "      <td>CPQ-009426</td>\n",
       "      <td>Acct-000024</td>\n",
       "      <td>2016-07-01</td>\n",
       "      <td>IP Services</td>\n",
       "      <td>3469.99</td>\n",
       "      <td>922.0</td>\n",
       "      <td>28433.59</td>\n",
       "      <td>Bldg-449138</td>\n",
       "      <td>Dallas</td>\n",
       "      <td>15050 Trinity Blvd</td>\n",
       "      <td>Fort Worth</td>\n",
       "      <td>TX</td>\n",
       "      <td>76155</td>\n",
       "      <td>1795.08</td>\n",
       "      <td>Not on Zayo Network</td>\n",
       "      <td>32.820624</td>\n",
       "      <td>-97.040988</td>\n",
       "      <td>Fiber Only</td>\n",
       "      <td>Office - Multi Tenant</td>\n",
       "      <td>56877.0</td>\n",
       "    </tr>\n",
       "    <tr>\n",
       "      <th>1501</th>\n",
       "      <td>CPQ-009421</td>\n",
       "      <td>Acct-000039</td>\n",
       "      <td>2016-07-01</td>\n",
       "      <td>Ethernet</td>\n",
       "      <td>1543.49</td>\n",
       "      <td>461.0</td>\n",
       "      <td>10914.50</td>\n",
       "      <td>Bldg-133508</td>\n",
       "      <td>Dallas</td>\n",
       "      <td>5101 Statesman Dr</td>\n",
       "      <td>Irving</td>\n",
       "      <td>TX</td>\n",
       "      <td>75063</td>\n",
       "      <td>607.02</td>\n",
       "      <td>Not on Zayo Network</td>\n",
       "      <td>32.935867</td>\n",
       "      <td>-97.017868</td>\n",
       "      <td>On-Net</td>\n",
       "      <td>Office - Single Tenant</td>\n",
       "      <td>27175.5</td>\n",
       "    </tr>\n",
       "    <tr>\n",
       "      <th>1502</th>\n",
       "      <td>CPQ-009604</td>\n",
       "      <td>Acct-000074</td>\n",
       "      <td>2016-07-06</td>\n",
       "      <td>Ethernet</td>\n",
       "      <td>1543.49</td>\n",
       "      <td>461.0</td>\n",
       "      <td>10914.50</td>\n",
       "      <td>Bldg-133508</td>\n",
       "      <td>Dallas</td>\n",
       "      <td>5101 Statesman Dr</td>\n",
       "      <td>Irving</td>\n",
       "      <td>TX</td>\n",
       "      <td>75063</td>\n",
       "      <td>607.02</td>\n",
       "      <td>Not on Zayo Network</td>\n",
       "      <td>32.935867</td>\n",
       "      <td>-97.017868</td>\n",
       "      <td>On-Net</td>\n",
       "      <td>Office - Single Tenant</td>\n",
       "      <td>27175.5</td>\n",
       "    </tr>\n",
       "    <tr>\n",
       "      <th>1503</th>\n",
       "      <td>CPQ-010600</td>\n",
       "      <td>Acct-000114</td>\n",
       "      <td>2016-08-02</td>\n",
       "      <td>Ethernet</td>\n",
       "      <td>1543.49</td>\n",
       "      <td>461.0</td>\n",
       "      <td>10914.50</td>\n",
       "      <td>Bldg-133508</td>\n",
       "      <td>Dallas</td>\n",
       "      <td>5101 Statesman Dr</td>\n",
       "      <td>Irving</td>\n",
       "      <td>TX</td>\n",
       "      <td>75063</td>\n",
       "      <td>607.02</td>\n",
       "      <td>Not on Zayo Network</td>\n",
       "      <td>32.935867</td>\n",
       "      <td>-97.017868</td>\n",
       "      <td>On-Net</td>\n",
       "      <td>Office - Single Tenant</td>\n",
       "      <td>27175.5</td>\n",
       "    </tr>\n",
       "    <tr>\n",
       "      <th>1504</th>\n",
       "      <td>CPQ-001441</td>\n",
       "      <td>Acct-000034</td>\n",
       "      <td>2016-11-03</td>\n",
       "      <td>Ethernet</td>\n",
       "      <td>1543.49</td>\n",
       "      <td>461.0</td>\n",
       "      <td>10914.50</td>\n",
       "      <td>Bldg-133508</td>\n",
       "      <td>Dallas</td>\n",
       "      <td>5101 Statesman Dr</td>\n",
       "      <td>Irving</td>\n",
       "      <td>TX</td>\n",
       "      <td>75063</td>\n",
       "      <td>607.02</td>\n",
       "      <td>Not on Zayo Network</td>\n",
       "      <td>32.935867</td>\n",
       "      <td>-97.017868</td>\n",
       "      <td>On-Net</td>\n",
       "      <td>Office - Single Tenant</td>\n",
       "      <td>27175.5</td>\n",
       "    </tr>\n",
       "  </tbody>\n",
       "</table>\n",
       "</div>"
      ],
      "text/plain": [
       "          CPQ ID   Account ID CreatedDate Product Group  X36 MRC  X36 NRR  \\\n",
       "497   CPQ-009426  Acct-000024  2016-07-01   IP Services  3469.99    922.0   \n",
       "1501  CPQ-009421  Acct-000039  2016-07-01      Ethernet  1543.49    461.0   \n",
       "1502  CPQ-009604  Acct-000074  2016-07-06      Ethernet  1543.49    461.0   \n",
       "1503  CPQ-010600  Acct-000114  2016-08-02      Ethernet  1543.49    461.0   \n",
       "1504  CPQ-001441  Acct-000034  2016-11-03      Ethernet  1543.49    461.0   \n",
       "\n",
       "       X36 NPV  Building ID  Market      Street Address        City State  \\\n",
       "497   28433.59  Bldg-449138  Dallas  15050 Trinity Blvd  Fort Worth    TX   \n",
       "1501  10914.50  Bldg-133508  Dallas   5101 Statesman Dr      Irving    TX   \n",
       "1502  10914.50  Bldg-133508  Dallas   5101 Statesman Dr      Irving    TX   \n",
       "1503  10914.50  Bldg-133508  Dallas   5101 Statesman Dr      Irving    TX   \n",
       "1504  10914.50  Bldg-133508  Dallas   5101 Statesman Dr      Irving    TX   \n",
       "\n",
       "     Postal Code  Network Proximity On Zayo Network Status   Latitude  \\\n",
       "497        76155            1795.08    Not on Zayo Network  32.820624   \n",
       "1501       75063             607.02    Not on Zayo Network  32.935867   \n",
       "1502       75063             607.02    Not on Zayo Network  32.935867   \n",
       "1503       75063             607.02    Not on Zayo Network  32.935867   \n",
       "1504       75063             607.02    Not on Zayo Network  32.935867   \n",
       "\n",
       "      Longitude Net Classification                    Type  \\\n",
       "497  -97.040988         Fiber Only   Office - Multi Tenant   \n",
       "1501 -97.017868             On-Net  Office - Single Tenant   \n",
       "1502 -97.017868             On-Net  Office - Single Tenant   \n",
       "1503 -97.017868             On-Net  Office - Single Tenant   \n",
       "1504 -97.017868             On-Net  Office - Single Tenant   \n",
       "\n",
       "       Estimated Build Cost   \n",
       "497                  56877.0  \n",
       "1501                 27175.5  \n",
       "1502                 27175.5  \n",
       "1503                 27175.5  \n",
       "1504                 27175.5  "
      ]
     },
     "execution_count": 12,
     "metadata": {},
     "output_type": "execute_result"
    }
   ],
   "source": [
    "cpq_status['X36 MRC'] = cpq_status['X36 MRC'].replace('[\\$,)]','',regex=True).astype(float)\n",
    "cpq_status['X36 NRR'] = cpq_status['X36 NRR'].str.replace(r'[$,]', '')\n",
    "cpq_status['X36 NRR'] = cpq_status['X36 NRR'].str.replace('-', '0')\n",
    "cpq_status['X36 NPV'] = cpq_status['X36 NPV'].str.replace(r'[$,]', '').replace('-', '0')\n",
    "cpq_status['X36 NPV'] = cpq_status['X36 NPV'].str.replace('-', '0')\n",
    "cpq_status[['X36 NRR','X36 NPV']] = cpq_status[['X36 NRR','X36 NPV']].apply(pd.to_numeric)\n",
    "cpq_status[' Estimated Build Cost '] = cpq_status[' Estimated Build Cost '].replace('[\\$,)]','',regex=True).astype(float)\n",
    "\n",
    "cpq_status.head()"
   ]
  },
  {
   "cell_type": "markdown",
   "metadata": {
    "deletable": true,
    "editable": true
   },
   "source": [
    "### find number of distinct buildings on Zayo network"
   ]
  },
  {
   "cell_type": "code",
   "execution_count": 13,
   "metadata": {
    "collapsed": false,
    "deletable": true,
    "editable": true
   },
   "outputs": [
    {
     "data": {
      "text/plain": [
       "794"
      ]
     },
     "execution_count": 13,
     "metadata": {},
     "output_type": "execute_result"
    }
   ],
   "source": [
    "len(cpq_status['Building ID'].unique())"
   ]
  },
  {
   "cell_type": "markdown",
   "metadata": {
    "deletable": true,
    "editable": true
   },
   "source": [
    "### Filter out the records based on the state"
   ]
  },
  {
   "cell_type": "code",
   "execution_count": 14,
   "metadata": {
    "collapsed": false,
    "deletable": true,
    "editable": true
   },
   "outputs": [],
   "source": [
    "cpq_CO = cpq_status.loc[cpq_status['State'] == 'CO']\n",
    "cpq_TX = cpq_status.loc[cpq_status['State'] == 'TX']\n",
    "cpq_GA = cpq_status.loc[cpq_status['State'] == 'GA']"
   ]
  },
  {
   "cell_type": "markdown",
   "metadata": {
    "deletable": true,
    "editable": true
   },
   "source": [
    "### For each individual state, calculate the profit incurred by each building"
   ]
  },
  {
   "cell_type": "code",
   "execution_count": 15,
   "metadata": {
    "collapsed": false,
    "deletable": true,
    "editable": true
   },
   "outputs": [],
   "source": [
    "CO_profit = cpq_CO.groupby(cpq_CO['Building ID'])['X36 NPV'].sum().reset_index()\n",
    "CO_profit.sort_values(by='Building ID', inplace=True)\n",
    "TX_profit = cpq_TX.groupby(cpq_TX['Building ID'])['X36 NPV'].sum().reset_index()\n",
    "TX_profit.sort_values(by='Building ID', inplace=True)\n",
    "GA_profit = cpq_GA.groupby(cpq_GA['Building ID'])['X36 NPV'].sum().reset_index()\n",
    "GA_profit.sort_values(by='Building ID', inplace=True)"
   ]
  },
  {
   "cell_type": "markdown",
   "metadata": {
    "deletable": true,
    "editable": true
   },
   "source": [
    "### For each building, get the total number of accounts associated with the building"
   ]
  },
  {
   "cell_type": "code",
   "execution_count": 16,
   "metadata": {
    "collapsed": true,
    "deletable": true,
    "editable": true
   },
   "outputs": [],
   "source": [
    "CO_accounts = cpq_CO.groupby(cpq_CO['Building ID'])['Account ID'].count().reset_index()\n",
    "CO_accounts.sort_values(by='Building ID', inplace=True)\n",
    "TX_accounts = cpq_TX.groupby(cpq_TX['Building ID'])['Account ID'].count().reset_index()\n",
    "TX_accounts.sort_values(by='Building ID', inplace=True)\n",
    "GA_accounts = cpq_GA.groupby(cpq_GA['Building ID'])['Account ID'].count().reset_index()\n",
    "GA_accounts.sort_values(by='Building ID', inplace=True)"
   ]
  },
  {
   "cell_type": "code",
   "execution_count": 17,
   "metadata": {
    "collapsed": false,
    "deletable": true,
    "editable": true
   },
   "outputs": [
    {
     "data": {
      "text/html": [
       "<div>\n",
       "<table border=\"1\" class=\"dataframe\">\n",
       "  <thead>\n",
       "    <tr style=\"text-align: right;\">\n",
       "      <th></th>\n",
       "      <th>Building ID</th>\n",
       "      <th>Account ID</th>\n",
       "    </tr>\n",
       "  </thead>\n",
       "  <tbody>\n",
       "    <tr>\n",
       "      <th>0</th>\n",
       "      <td>Bldg-059940</td>\n",
       "      <td>2</td>\n",
       "    </tr>\n",
       "    <tr>\n",
       "      <th>1</th>\n",
       "      <td>Bldg-068378</td>\n",
       "      <td>1</td>\n",
       "    </tr>\n",
       "    <tr>\n",
       "      <th>2</th>\n",
       "      <td>Bldg-074834</td>\n",
       "      <td>1</td>\n",
       "    </tr>\n",
       "    <tr>\n",
       "      <th>3</th>\n",
       "      <td>Bldg-081662</td>\n",
       "      <td>4</td>\n",
       "    </tr>\n",
       "    <tr>\n",
       "      <th>4</th>\n",
       "      <td>Bldg-082112</td>\n",
       "      <td>3</td>\n",
       "    </tr>\n",
       "  </tbody>\n",
       "</table>\n",
       "</div>"
      ],
      "text/plain": [
       "   Building ID  Account ID\n",
       "0  Bldg-059940           2\n",
       "1  Bldg-068378           1\n",
       "2  Bldg-074834           1\n",
       "3  Bldg-081662           4\n",
       "4  Bldg-082112           3"
      ]
     },
     "execution_count": 17,
     "metadata": {},
     "output_type": "execute_result"
    }
   ],
   "source": [
    "CO_accounts.head()"
   ]
  },
  {
   "cell_type": "markdown",
   "metadata": {
    "deletable": true,
    "editable": true
   },
   "source": [
    "### Get the estimated build cost for each state"
   ]
  },
  {
   "cell_type": "code",
   "execution_count": 18,
   "metadata": {
    "collapsed": false,
    "deletable": true,
    "editable": true
   },
   "outputs": [],
   "source": [
    "build_cost_CO = cpq_CO.groupby(['Building ID',' Estimated Build Cost ']).size().reset_index().rename(columns={0:'count'})\n",
    "build_cost_TX = cpq_TX.groupby(['Building ID',' Estimated Build Cost ']).size().reset_index().rename(columns={0:'count'})\n",
    "build_cost_GA = cpq_GA.groupby(['Building ID',' Estimated Build Cost ']).size().reset_index().rename(columns={0:'count'})"
   ]
  },
  {
   "cell_type": "markdown",
   "metadata": {
    "deletable": true,
    "editable": true
   },
   "source": [
    "### Total profit = Profit incurred by each building - Estimated build cost"
   ]
  },
  {
   "cell_type": "code",
   "execution_count": 19,
   "metadata": {
    "collapsed": false,
    "deletable": true,
    "editable": true
   },
   "outputs": [],
   "source": [
    "CO_profit['Estimated Build Cost'] = build_cost_CO[' Estimated Build Cost ']\n",
    "CO_profit['Profit Including Build Cost'] = CO_profit['X36 NPV'] - CO_profit['Estimated Build Cost']\n",
    "CO_profit['Number of Accounts'] = CO_accounts['Account ID']"
   ]
  },
  {
   "cell_type": "code",
   "execution_count": 20,
   "metadata": {
    "collapsed": false,
    "deletable": true,
    "editable": true
   },
   "outputs": [],
   "source": [
    "TX_profit['Estimated Build Cost'] = build_cost_TX[' Estimated Build Cost ']\n",
    "TX_profit['Profit Including Build Cost'] = TX_profit['X36 NPV'] - TX_profit['Estimated Build Cost']\n",
    "TX_profit['Number of Accounts'] = TX_accounts['Account ID']"
   ]
  },
  {
   "cell_type": "code",
   "execution_count": 21,
   "metadata": {
    "collapsed": true,
    "deletable": true,
    "editable": true
   },
   "outputs": [],
   "source": [
    "GA_profit['Estimated Build Cost'] = build_cost_GA[' Estimated Build Cost ']\n",
    "GA_profit['Profit Including Build Cost'] = GA_profit['X36 NPV'] - GA_profit['Estimated Build Cost']\n",
    "GA_profit['Number of Accounts'] = GA_accounts['Account ID']"
   ]
  },
  {
   "cell_type": "code",
   "execution_count": 22,
   "metadata": {
    "collapsed": false,
    "deletable": true,
    "editable": true
   },
   "outputs": [],
   "source": [
    "CO_profit.sort_values(by='Profit Including Build Cost', ascending=False, inplace=True)\n",
    "TX_profit.sort_values(by='Profit Including Build Cost', ascending=False, inplace=True)\n",
    "GA_profit.sort_values(by='Profit Including Build Cost', ascending=False, inplace=True)"
   ]
  },
  {
   "cell_type": "code",
   "execution_count": 23,
   "metadata": {
    "collapsed": false,
    "deletable": true,
    "editable": true
   },
   "outputs": [
    {
     "data": {
      "text/html": [
       "<div>\n",
       "<table border=\"1\" class=\"dataframe\">\n",
       "  <thead>\n",
       "    <tr style=\"text-align: right;\">\n",
       "      <th></th>\n",
       "      <th>Building ID</th>\n",
       "      <th>X36 NPV</th>\n",
       "      <th>Estimated Build Cost</th>\n",
       "      <th>Profit Including Build Cost</th>\n",
       "      <th>Number of Accounts</th>\n",
       "    </tr>\n",
       "  </thead>\n",
       "  <tbody>\n",
       "    <tr>\n",
       "      <th>160</th>\n",
       "      <td>Bldg-430143</td>\n",
       "      <td>480159.37</td>\n",
       "      <td>35981.5</td>\n",
       "      <td>444177.87</td>\n",
       "      <td>4</td>\n",
       "    </tr>\n",
       "    <tr>\n",
       "      <th>253</th>\n",
       "      <td>Bldg-519433</td>\n",
       "      <td>357294.76</td>\n",
       "      <td>14366.5</td>\n",
       "      <td>342928.26</td>\n",
       "      <td>1</td>\n",
       "    </tr>\n",
       "    <tr>\n",
       "      <th>86</th>\n",
       "      <td>Bldg-158872</td>\n",
       "      <td>319506.62</td>\n",
       "      <td>22971.4</td>\n",
       "      <td>296535.22</td>\n",
       "      <td>2</td>\n",
       "    </tr>\n",
       "    <tr>\n",
       "      <th>81</th>\n",
       "      <td>Bldg-158866</td>\n",
       "      <td>334458.16</td>\n",
       "      <td>49844.5</td>\n",
       "      <td>284613.66</td>\n",
       "      <td>3</td>\n",
       "    </tr>\n",
       "    <tr>\n",
       "      <th>128</th>\n",
       "      <td>Bldg-266860</td>\n",
       "      <td>242771.91</td>\n",
       "      <td>18408.4</td>\n",
       "      <td>224363.51</td>\n",
       "      <td>5</td>\n",
       "    </tr>\n",
       "  </tbody>\n",
       "</table>\n",
       "</div>"
      ],
      "text/plain": [
       "     Building ID    X36 NPV  Estimated Build Cost  \\\n",
       "160  Bldg-430143  480159.37               35981.5   \n",
       "253  Bldg-519433  357294.76               14366.5   \n",
       "86   Bldg-158872  319506.62               22971.4   \n",
       "81   Bldg-158866  334458.16               49844.5   \n",
       "128  Bldg-266860  242771.91               18408.4   \n",
       "\n",
       "     Profit Including Build Cost  Number of Accounts  \n",
       "160                    444177.87                   4  \n",
       "253                    342928.26                   1  \n",
       "86                     296535.22                   2  \n",
       "81                     284613.66                   3  \n",
       "128                    224363.51                   5  "
      ]
     },
     "execution_count": 23,
     "metadata": {},
     "output_type": "execute_result"
    }
   ],
   "source": [
    "CO_profit.head()"
   ]
  },
  {
   "cell_type": "code",
   "execution_count": 24,
   "metadata": {
    "collapsed": false,
    "deletable": true,
    "editable": true
   },
   "outputs": [
    {
     "data": {
      "text/html": [
       "<div>\n",
       "<table border=\"1\" class=\"dataframe\">\n",
       "  <thead>\n",
       "    <tr style=\"text-align: right;\">\n",
       "      <th></th>\n",
       "      <th>Building ID</th>\n",
       "      <th>X36 NPV</th>\n",
       "      <th>Estimated Build Cost</th>\n",
       "      <th>Profit Including Build Cost</th>\n",
       "      <th>Number of Accounts</th>\n",
       "    </tr>\n",
       "  </thead>\n",
       "  <tbody>\n",
       "    <tr>\n",
       "      <th>114</th>\n",
       "      <td>Bldg-386004</td>\n",
       "      <td>392308.73</td>\n",
       "      <td>62026.25</td>\n",
       "      <td>330282.48</td>\n",
       "      <td>7</td>\n",
       "    </tr>\n",
       "    <tr>\n",
       "      <th>21</th>\n",
       "      <td>Bldg-118398</td>\n",
       "      <td>277511.02</td>\n",
       "      <td>25200.60</td>\n",
       "      <td>252310.42</td>\n",
       "      <td>1</td>\n",
       "    </tr>\n",
       "    <tr>\n",
       "      <th>94</th>\n",
       "      <td>Bldg-293930</td>\n",
       "      <td>254597.79</td>\n",
       "      <td>19360.20</td>\n",
       "      <td>235237.59</td>\n",
       "      <td>3</td>\n",
       "    </tr>\n",
       "    <tr>\n",
       "      <th>58</th>\n",
       "      <td>Bldg-139825</td>\n",
       "      <td>262124.91</td>\n",
       "      <td>29809.80</td>\n",
       "      <td>232315.11</td>\n",
       "      <td>16</td>\n",
       "    </tr>\n",
       "    <tr>\n",
       "      <th>105</th>\n",
       "      <td>Bldg-366026</td>\n",
       "      <td>260224.38</td>\n",
       "      <td>37675.00</td>\n",
       "      <td>222549.38</td>\n",
       "      <td>1</td>\n",
       "    </tr>\n",
       "  </tbody>\n",
       "</table>\n",
       "</div>"
      ],
      "text/plain": [
       "     Building ID    X36 NPV  Estimated Build Cost  \\\n",
       "114  Bldg-386004  392308.73              62026.25   \n",
       "21   Bldg-118398  277511.02              25200.60   \n",
       "94   Bldg-293930  254597.79              19360.20   \n",
       "58   Bldg-139825  262124.91              29809.80   \n",
       "105  Bldg-366026  260224.38              37675.00   \n",
       "\n",
       "     Profit Including Build Cost  Number of Accounts  \n",
       "114                    330282.48                   7  \n",
       "21                     252310.42                   1  \n",
       "94                     235237.59                   3  \n",
       "58                     232315.11                  16  \n",
       "105                    222549.38                   1  "
      ]
     },
     "execution_count": 24,
     "metadata": {},
     "output_type": "execute_result"
    }
   ],
   "source": [
    "TX_profit.head()"
   ]
  },
  {
   "cell_type": "code",
   "execution_count": 25,
   "metadata": {
    "collapsed": false,
    "deletable": true,
    "editable": true
   },
   "outputs": [
    {
     "data": {
      "text/html": [
       "<div>\n",
       "<table border=\"1\" class=\"dataframe\">\n",
       "  <thead>\n",
       "    <tr style=\"text-align: right;\">\n",
       "      <th></th>\n",
       "      <th>Building ID</th>\n",
       "      <th>X36 NPV</th>\n",
       "      <th>Estimated Build Cost</th>\n",
       "      <th>Profit Including Build Cost</th>\n",
       "      <th>Number of Accounts</th>\n",
       "    </tr>\n",
       "  </thead>\n",
       "  <tbody>\n",
       "    <tr>\n",
       "      <th>57</th>\n",
       "      <td>Bldg-115684</td>\n",
       "      <td>632439.00</td>\n",
       "      <td>24570.70</td>\n",
       "      <td>607868.30</td>\n",
       "      <td>18</td>\n",
       "    </tr>\n",
       "    <tr>\n",
       "      <th>100</th>\n",
       "      <td>Bldg-233683</td>\n",
       "      <td>508875.91</td>\n",
       "      <td>69739.12</td>\n",
       "      <td>439136.79</td>\n",
       "      <td>9</td>\n",
       "    </tr>\n",
       "    <tr>\n",
       "      <th>33</th>\n",
       "      <td>Bldg-070188</td>\n",
       "      <td>426020.76</td>\n",
       "      <td>67006.72</td>\n",
       "      <td>359014.04</td>\n",
       "      <td>3</td>\n",
       "    </tr>\n",
       "    <tr>\n",
       "      <th>32</th>\n",
       "      <td>Bldg-068834</td>\n",
       "      <td>386640.77</td>\n",
       "      <td>65354.08</td>\n",
       "      <td>321286.69</td>\n",
       "      <td>9</td>\n",
       "    </tr>\n",
       "    <tr>\n",
       "      <th>54</th>\n",
       "      <td>Bldg-115607</td>\n",
       "      <td>330542.80</td>\n",
       "      <td>18107.80</td>\n",
       "      <td>312435.00</td>\n",
       "      <td>1</td>\n",
       "    </tr>\n",
       "  </tbody>\n",
       "</table>\n",
       "</div>"
      ],
      "text/plain": [
       "     Building ID    X36 NPV  Estimated Build Cost  \\\n",
       "57   Bldg-115684  632439.00              24570.70   \n",
       "100  Bldg-233683  508875.91              69739.12   \n",
       "33   Bldg-070188  426020.76              67006.72   \n",
       "32   Bldg-068834  386640.77              65354.08   \n",
       "54   Bldg-115607  330542.80              18107.80   \n",
       "\n",
       "     Profit Including Build Cost  Number of Accounts  \n",
       "57                     607868.30                  18  \n",
       "100                    439136.79                   9  \n",
       "33                     359014.04                   3  \n",
       "32                     321286.69                   9  \n",
       "54                     312435.00                   1  "
      ]
     },
     "execution_count": 25,
     "metadata": {},
     "output_type": "execute_result"
    }
   ],
   "source": [
    "GA_profit.head()"
   ]
  },
  {
   "cell_type": "markdown",
   "metadata": {
    "deletable": true,
    "editable": true
   },
   "source": [
    "### Merge the profits dataframe with the original datafrae"
   ]
  },
  {
   "cell_type": "code",
   "execution_count": 26,
   "metadata": {
    "collapsed": false,
    "deletable": true,
    "editable": true
   },
   "outputs": [],
   "source": [
    "co_buildings_latlong = pd.merge(CO_profit, cpq_status, on='Building ID', how='inner')\n",
    "tx_buildings_latlong = pd.merge(TX_profit, cpq_status, on='Building ID', how='inner')\n",
    "ga_buildings_latlong = pd.merge(GA_profit, cpq_status, on='Building ID', how='inner')"
   ]
  },
  {
   "cell_type": "code",
   "execution_count": 27,
   "metadata": {
    "collapsed": false,
    "deletable": true,
    "editable": true
   },
   "outputs": [
    {
     "data": {
      "text/html": [
       "<div>\n",
       "<table border=\"1\" class=\"dataframe\">\n",
       "  <thead>\n",
       "    <tr style=\"text-align: right;\">\n",
       "      <th></th>\n",
       "      <th>Building ID</th>\n",
       "      <th>X36 NPV_x</th>\n",
       "      <th>Estimated Build Cost</th>\n",
       "      <th>Profit Including Build Cost</th>\n",
       "      <th>Number of Accounts</th>\n",
       "      <th>CPQ ID</th>\n",
       "      <th>Account ID</th>\n",
       "      <th>CreatedDate</th>\n",
       "      <th>Product Group</th>\n",
       "      <th>X36 MRC</th>\n",
       "      <th>...</th>\n",
       "      <th>City</th>\n",
       "      <th>State</th>\n",
       "      <th>Postal Code</th>\n",
       "      <th>Network Proximity</th>\n",
       "      <th>On Zayo Network Status</th>\n",
       "      <th>Latitude</th>\n",
       "      <th>Longitude</th>\n",
       "      <th>Net Classification</th>\n",
       "      <th>Type</th>\n",
       "      <th>Estimated Build Cost</th>\n",
       "    </tr>\n",
       "  </thead>\n",
       "  <tbody>\n",
       "    <tr>\n",
       "      <th>0</th>\n",
       "      <td>Bldg-430143</td>\n",
       "      <td>480159.37</td>\n",
       "      <td>35981.5</td>\n",
       "      <td>444177.87</td>\n",
       "      <td>4</td>\n",
       "      <td>CPQ-012244</td>\n",
       "      <td>Acct-000397</td>\n",
       "      <td>2016-09-08</td>\n",
       "      <td>Dark Fiber - Metro</td>\n",
       "      <td>7507.43</td>\n",
       "      <td>...</td>\n",
       "      <td>Denver</td>\n",
       "      <td>CO</td>\n",
       "      <td>80202</td>\n",
       "      <td>786.05</td>\n",
       "      <td>Not on Zayo Network</td>\n",
       "      <td>39.753224</td>\n",
       "      <td>-105.000157</td>\n",
       "      <td>On-Net</td>\n",
       "      <td>Office - Multi Tenant</td>\n",
       "      <td>35981.5</td>\n",
       "    </tr>\n",
       "    <tr>\n",
       "      <th>1</th>\n",
       "      <td>Bldg-430143</td>\n",
       "      <td>480159.37</td>\n",
       "      <td>35981.5</td>\n",
       "      <td>444177.87</td>\n",
       "      <td>4</td>\n",
       "      <td>CPQ-012406</td>\n",
       "      <td>Acct-000350</td>\n",
       "      <td>2016-09-13</td>\n",
       "      <td>Dark Fiber - Metro</td>\n",
       "      <td>7507.43</td>\n",
       "      <td>...</td>\n",
       "      <td>Denver</td>\n",
       "      <td>CO</td>\n",
       "      <td>80202</td>\n",
       "      <td>786.05</td>\n",
       "      <td>Not on Zayo Network</td>\n",
       "      <td>39.753224</td>\n",
       "      <td>-105.000157</td>\n",
       "      <td>On-Net</td>\n",
       "      <td>Office - Multi Tenant</td>\n",
       "      <td>35981.5</td>\n",
       "    </tr>\n",
       "    <tr>\n",
       "      <th>2</th>\n",
       "      <td>Bldg-430143</td>\n",
       "      <td>480159.37</td>\n",
       "      <td>35981.5</td>\n",
       "      <td>444177.87</td>\n",
       "      <td>4</td>\n",
       "      <td>CPQ-005682</td>\n",
       "      <td>Acct-000169</td>\n",
       "      <td>2017-01-05</td>\n",
       "      <td>Dark Fiber - Metro</td>\n",
       "      <td>7507.43</td>\n",
       "      <td>...</td>\n",
       "      <td>Denver</td>\n",
       "      <td>CO</td>\n",
       "      <td>80202</td>\n",
       "      <td>786.05</td>\n",
       "      <td>Not on Zayo Network</td>\n",
       "      <td>39.753224</td>\n",
       "      <td>-105.000157</td>\n",
       "      <td>On-Net</td>\n",
       "      <td>Office - Multi Tenant</td>\n",
       "      <td>35981.5</td>\n",
       "    </tr>\n",
       "    <tr>\n",
       "      <th>3</th>\n",
       "      <td>Bldg-430143</td>\n",
       "      <td>480159.37</td>\n",
       "      <td>35981.5</td>\n",
       "      <td>444177.87</td>\n",
       "      <td>4</td>\n",
       "      <td>CPQ-005767</td>\n",
       "      <td>Acct-000274</td>\n",
       "      <td>2017-01-06</td>\n",
       "      <td>Dark Fiber - Metro</td>\n",
       "      <td>7507.43</td>\n",
       "      <td>...</td>\n",
       "      <td>Denver</td>\n",
       "      <td>CO</td>\n",
       "      <td>80202</td>\n",
       "      <td>786.05</td>\n",
       "      <td>Not on Zayo Network</td>\n",
       "      <td>39.753224</td>\n",
       "      <td>-105.000157</td>\n",
       "      <td>On-Net</td>\n",
       "      <td>Office - Multi Tenant</td>\n",
       "      <td>35981.5</td>\n",
       "    </tr>\n",
       "    <tr>\n",
       "      <th>4</th>\n",
       "      <td>Bldg-519433</td>\n",
       "      <td>357294.76</td>\n",
       "      <td>14366.5</td>\n",
       "      <td>342928.26</td>\n",
       "      <td>1</td>\n",
       "      <td>CPQ-006575</td>\n",
       "      <td>Acct-000397</td>\n",
       "      <td>2017-02-28</td>\n",
       "      <td>Dark Fiber - Metro</td>\n",
       "      <td>15901.90</td>\n",
       "      <td>...</td>\n",
       "      <td>Denver</td>\n",
       "      <td>CO</td>\n",
       "      <td>80223</td>\n",
       "      <td>43.70</td>\n",
       "      <td>Not on Zayo Network</td>\n",
       "      <td>39.857676</td>\n",
       "      <td>-104.583343</td>\n",
       "      <td>Fiber Only</td>\n",
       "      <td>Splice Point</td>\n",
       "      <td>14366.5</td>\n",
       "    </tr>\n",
       "  </tbody>\n",
       "</table>\n",
       "<p>5 rows × 24 columns</p>\n",
       "</div>"
      ],
      "text/plain": [
       "   Building ID  X36 NPV_x  Estimated Build Cost  Profit Including Build Cost  \\\n",
       "0  Bldg-430143  480159.37               35981.5                    444177.87   \n",
       "1  Bldg-430143  480159.37               35981.5                    444177.87   \n",
       "2  Bldg-430143  480159.37               35981.5                    444177.87   \n",
       "3  Bldg-430143  480159.37               35981.5                    444177.87   \n",
       "4  Bldg-519433  357294.76               14366.5                    342928.26   \n",
       "\n",
       "   Number of Accounts      CPQ ID   Account ID CreatedDate  \\\n",
       "0                   4  CPQ-012244  Acct-000397  2016-09-08   \n",
       "1                   4  CPQ-012406  Acct-000350  2016-09-13   \n",
       "2                   4  CPQ-005682  Acct-000169  2017-01-05   \n",
       "3                   4  CPQ-005767  Acct-000274  2017-01-06   \n",
       "4                   1  CPQ-006575  Acct-000397  2017-02-28   \n",
       "\n",
       "        Product Group   X36 MRC           ...              City  State  \\\n",
       "0  Dark Fiber - Metro   7507.43           ...            Denver     CO   \n",
       "1  Dark Fiber - Metro   7507.43           ...            Denver     CO   \n",
       "2  Dark Fiber - Metro   7507.43           ...            Denver     CO   \n",
       "3  Dark Fiber - Metro   7507.43           ...            Denver     CO   \n",
       "4  Dark Fiber - Metro  15901.90           ...            Denver     CO   \n",
       "\n",
       "  Postal Code Network Proximity On Zayo Network Status   Latitude   Longitude  \\\n",
       "0       80202            786.05    Not on Zayo Network  39.753224 -105.000157   \n",
       "1       80202            786.05    Not on Zayo Network  39.753224 -105.000157   \n",
       "2       80202            786.05    Not on Zayo Network  39.753224 -105.000157   \n",
       "3       80202            786.05    Not on Zayo Network  39.753224 -105.000157   \n",
       "4       80223             43.70    Not on Zayo Network  39.857676 -104.583343   \n",
       "\n",
       "   Net Classification                   Type   Estimated Build Cost   \n",
       "0              On-Net  Office - Multi Tenant                 35981.5  \n",
       "1              On-Net  Office - Multi Tenant                 35981.5  \n",
       "2              On-Net  Office - Multi Tenant                 35981.5  \n",
       "3              On-Net  Office - Multi Tenant                 35981.5  \n",
       "4          Fiber Only           Splice Point                 14366.5  \n",
       "\n",
       "[5 rows x 24 columns]"
      ]
     },
     "execution_count": 27,
     "metadata": {},
     "output_type": "execute_result"
    }
   ],
   "source": [
    "co_buildings_latlong.head()"
   ]
  },
  {
   "cell_type": "markdown",
   "metadata": {
    "deletable": true,
    "editable": true
   },
   "source": [
    "### Generate the profits csv by combining the state dataframes. This csv would be used to generate the data table for the first visualization"
   ]
  },
  {
   "cell_type": "code",
   "execution_count": 28,
   "metadata": {
    "collapsed": false,
    "deletable": true,
    "editable": true
   },
   "outputs": [],
   "source": [
    "co_buildings_latlong = co_buildings_latlong[['Building ID', 'X36 NPV_x', 'Estimated Build Cost', 'Profit Including Build Cost',\n",
    "                                            'Latitude', 'Longitude', 'State', 'Number of Accounts', 'Street Address',\n",
    "                                            'Postal Code', 'Net Classification', 'Type']]\n",
    "co_buildings_latlong.drop_duplicates(['Building ID'], inplace=True)\n",
    "tx_buildings_latlong = tx_buildings_latlong[['Building ID', 'X36 NPV_x', 'Estimated Build Cost', 'Profit Including Build Cost',\n",
    "                                            'Latitude', 'Longitude', 'State', 'Number of Accounts', 'Street Address',\n",
    "                                            'Postal Code', 'Net Classification', 'Type']]\n",
    "tx_buildings_latlong.drop_duplicates(['Building ID'], inplace=True)\n",
    "ga_buildings_latlong = ga_buildings_latlong[['Building ID', 'X36 NPV_x', 'Estimated Build Cost', 'Profit Including Build Cost',\n",
    "                                            'Latitude', 'Longitude', 'State', 'Number of Accounts', 'Street Address',\n",
    "                                            'Postal Code', 'Net Classification', 'Type']]\n",
    "ga_buildings_latlong.drop_duplicates(['Building ID'], inplace=True)"
   ]
  },
  {
   "cell_type": "code",
   "execution_count": 29,
   "metadata": {
    "collapsed": false,
    "deletable": true,
    "editable": true
   },
   "outputs": [],
   "source": [
    "profits = pd.concat([co_buildings_latlong, tx_buildings_latlong, ga_buildings_latlong])"
   ]
  },
  {
   "cell_type": "code",
   "execution_count": 30,
   "metadata": {
    "collapsed": true,
    "deletable": true,
    "editable": true
   },
   "outputs": [],
   "source": [
    "profits.to_csv('profits.csv')"
   ]
  },
  {
   "cell_type": "markdown",
   "metadata": {
    "deletable": true,
    "editable": true
   },
   "source": [
    "### Identify the total number of buildings for each state and write that to a csv"
   ]
  },
  {
   "cell_type": "code",
   "execution_count": 31,
   "metadata": {
    "collapsed": false,
    "deletable": true,
    "editable": true
   },
   "outputs": [],
   "source": [
    "co_sum = CO_profit['Profit Including Build Cost'].sum()\n",
    "buildings_co = len(CO_profit)"
   ]
  },
  {
   "cell_type": "code",
   "execution_count": 32,
   "metadata": {
    "collapsed": false,
    "deletable": true,
    "editable": true
   },
   "outputs": [],
   "source": [
    "tx_sum = TX_profit['Profit Including Build Cost'].sum()\n",
    "buildings_tx = len(TX_profit)"
   ]
  },
  {
   "cell_type": "code",
   "execution_count": 33,
   "metadata": {
    "collapsed": false,
    "deletable": true,
    "editable": true
   },
   "outputs": [],
   "source": [
    "ga_sum = GA_profit['Profit Including Build Cost'].sum()\n",
    "buildings_ga = len(GA_profit)"
   ]
  },
  {
   "cell_type": "code",
   "execution_count": 34,
   "metadata": {
    "collapsed": false,
    "deletable": true,
    "editable": true
   },
   "outputs": [],
   "source": [
    "import csv\n",
    "vals = [['CO', co_sum, buildings_co], ['TX', tx_sum, buildings_tx], ['GA', ga_sum, buildings_ga]]\n",
    "\n",
    "with open('profit_by_state.csv','w') as f:\n",
    "    w = csv.writer(f)\n",
    "    w.writerow(['State','Total Profit', 'Number of Buildings'])\n",
    "    for v in vals:\n",
    "        w.writerow(v)"
   ]
  },
  {
   "cell_type": "markdown",
   "metadata": {
    "deletable": true,
    "editable": true
   },
   "source": [
    "### getting a glimpse of the data in the opportunities file"
   ]
  },
  {
   "cell_type": "code",
   "execution_count": 35,
   "metadata": {
    "collapsed": false,
    "deletable": true,
    "editable": true
   },
   "outputs": [
    {
     "data": {
      "text/html": [
       "<div>\n",
       "<table border=\"1\" class=\"dataframe\">\n",
       "  <thead>\n",
       "    <tr style=\"text-align: right;\">\n",
       "      <th></th>\n",
       "      <th>Opportunity ID</th>\n",
       "      <th>Account ID</th>\n",
       "      <th>StageName</th>\n",
       "      <th>IsClosed</th>\n",
       "      <th>IsWon</th>\n",
       "      <th>CreatedDate</th>\n",
       "      <th>Term in Months</th>\n",
       "      <th>Service</th>\n",
       "      <th>Opportunity Type</th>\n",
       "      <th>Product Group</th>\n",
       "      <th>Building ID</th>\n",
       "      <th>Market</th>\n",
       "      <th>Street Address</th>\n",
       "      <th>City</th>\n",
       "      <th>State</th>\n",
       "      <th>Postal Code</th>\n",
       "      <th>Network Proximity</th>\n",
       "      <th>On Zayo Network Status</th>\n",
       "    </tr>\n",
       "  </thead>\n",
       "  <tbody>\n",
       "    <tr>\n",
       "      <th>0</th>\n",
       "      <td>Opp-000001</td>\n",
       "      <td>Acct-000007</td>\n",
       "      <td>Closed - Lost</td>\n",
       "      <td>True</td>\n",
       "      <td>False</td>\n",
       "      <td>7/1/16</td>\n",
       "      <td>12.0</td>\n",
       "      <td>NaN</td>\n",
       "      <td>New Service</td>\n",
       "      <td>Ethernet</td>\n",
       "      <td>Bldg-012582</td>\n",
       "      <td>Atlanta</td>\n",
       "      <td>56 Marietta St NW</td>\n",
       "      <td>Atlanta</td>\n",
       "      <td>GA</td>\n",
       "      <td>30303</td>\n",
       "      <td>66.45</td>\n",
       "      <td>On Zayo Network</td>\n",
       "    </tr>\n",
       "    <tr>\n",
       "      <th>1</th>\n",
       "      <td>Opp-000002</td>\n",
       "      <td>Acct-000986</td>\n",
       "      <td>5 - Accepted</td>\n",
       "      <td>True</td>\n",
       "      <td>True</td>\n",
       "      <td>7/1/16</td>\n",
       "      <td>60.0</td>\n",
       "      <td>NaN</td>\n",
       "      <td>New Service</td>\n",
       "      <td>Dark Fiber - Metro</td>\n",
       "      <td>Bldg-016855</td>\n",
       "      <td>Atlanta</td>\n",
       "      <td>300 Satellite Blvd NW</td>\n",
       "      <td>Suwanee</td>\n",
       "      <td>GA</td>\n",
       "      <td>30024</td>\n",
       "      <td>374.79</td>\n",
       "      <td>On Zayo Network</td>\n",
       "    </tr>\n",
       "    <tr>\n",
       "      <th>2</th>\n",
       "      <td>Opp-000002</td>\n",
       "      <td>Acct-000986</td>\n",
       "      <td>5 - Accepted</td>\n",
       "      <td>True</td>\n",
       "      <td>True</td>\n",
       "      <td>7/1/16</td>\n",
       "      <td>60.0</td>\n",
       "      <td>NaN</td>\n",
       "      <td>New Service</td>\n",
       "      <td>Dark Fiber - Metro</td>\n",
       "      <td>Bldg-109003</td>\n",
       "      <td>Atlanta</td>\n",
       "      <td>305 Satellite Blvd NW</td>\n",
       "      <td>Suwanee</td>\n",
       "      <td>GA</td>\n",
       "      <td>30024</td>\n",
       "      <td>250.74</td>\n",
       "      <td>On Zayo Network</td>\n",
       "    </tr>\n",
       "  </tbody>\n",
       "</table>\n",
       "</div>"
      ],
      "text/plain": [
       "  Opportunity ID   Account ID      StageName IsClosed  IsWon CreatedDate  \\\n",
       "0     Opp-000001  Acct-000007  Closed - Lost     True  False      7/1/16   \n",
       "1     Opp-000002  Acct-000986   5 - Accepted     True   True      7/1/16   \n",
       "2     Opp-000002  Acct-000986   5 - Accepted     True   True      7/1/16   \n",
       "\n",
       "   Term in Months Service Opportunity Type       Product Group  Building ID  \\\n",
       "0            12.0     NaN      New Service            Ethernet  Bldg-012582   \n",
       "1            60.0     NaN      New Service  Dark Fiber - Metro  Bldg-016855   \n",
       "2            60.0     NaN      New Service  Dark Fiber - Metro  Bldg-109003   \n",
       "\n",
       "    Market         Street Address     City State  Postal Code  \\\n",
       "0  Atlanta      56 Marietta St NW  Atlanta    GA        30303   \n",
       "1  Atlanta  300 Satellite Blvd NW  Suwanee    GA        30024   \n",
       "2  Atlanta  305 Satellite Blvd NW  Suwanee    GA        30024   \n",
       "\n",
       "   Network Proximity On Zayo Network Status  \n",
       "0              66.45        On Zayo Network  \n",
       "1             374.79        On Zayo Network  \n",
       "2             250.74        On Zayo Network  "
      ]
     },
     "execution_count": 35,
     "metadata": {},
     "output_type": "execute_result"
    }
   ],
   "source": [
    "opportunities.head(3)"
   ]
  },
  {
   "cell_type": "markdown",
   "metadata": {
    "deletable": true,
    "editable": true
   },
   "source": [
    "### isolating opportunities that haven't been 'Closed - Lost'"
   ]
  },
  {
   "cell_type": "code",
   "execution_count": 36,
   "metadata": {
    "collapsed": true,
    "deletable": true,
    "editable": true
   },
   "outputs": [],
   "source": [
    "opportunities_not_lost = opportunities[opportunities['StageName'] != 'Closed - Lost'].groupby('Account ID')['Building ID'].count().reset_index()"
   ]
  },
  {
   "cell_type": "markdown",
   "metadata": {
    "deletable": true,
    "editable": true
   },
   "source": [
    "### count the number of buildings on every account grouped by network status"
   ]
  },
  {
   "cell_type": "code",
   "execution_count": 37,
   "metadata": {
    "collapsed": true,
    "deletable": true,
    "editable": true
   },
   "outputs": [],
   "source": [
    "count_bldg_opps = opportunities.groupby(['Account ID','On Zayo Network Status'])['Building ID'].count()\n",
    "count_bldg_opps = count_bldg_opps.reset_index()"
   ]
  },
  {
   "cell_type": "code",
   "execution_count": 38,
   "metadata": {
    "collapsed": false,
    "deletable": true,
    "editable": true
   },
   "outputs": [
    {
     "data": {
      "text/html": [
       "<div>\n",
       "<table border=\"1\" class=\"dataframe\">\n",
       "  <thead>\n",
       "    <tr style=\"text-align: right;\">\n",
       "      <th></th>\n",
       "      <th>Account ID</th>\n",
       "      <th>On Zayo Network Status</th>\n",
       "      <th>Building ID</th>\n",
       "    </tr>\n",
       "  </thead>\n",
       "  <tbody>\n",
       "    <tr>\n",
       "      <th>0</th>\n",
       "      <td>Acct-000001</td>\n",
       "      <td>Not on Zayo Network</td>\n",
       "      <td>2</td>\n",
       "    </tr>\n",
       "    <tr>\n",
       "      <th>1</th>\n",
       "      <td>Acct-000001</td>\n",
       "      <td>On Zayo Network</td>\n",
       "      <td>2</td>\n",
       "    </tr>\n",
       "    <tr>\n",
       "      <th>2</th>\n",
       "      <td>Acct-000002</td>\n",
       "      <td>Build in Progress</td>\n",
       "      <td>1</td>\n",
       "    </tr>\n",
       "    <tr>\n",
       "      <th>3</th>\n",
       "      <td>Acct-000002</td>\n",
       "      <td>Not on Zayo Network</td>\n",
       "      <td>7</td>\n",
       "    </tr>\n",
       "    <tr>\n",
       "      <th>4</th>\n",
       "      <td>Acct-000002</td>\n",
       "      <td>On Zayo Network</td>\n",
       "      <td>68</td>\n",
       "    </tr>\n",
       "  </tbody>\n",
       "</table>\n",
       "</div>"
      ],
      "text/plain": [
       "    Account ID On Zayo Network Status  Building ID\n",
       "0  Acct-000001    Not on Zayo Network            2\n",
       "1  Acct-000001        On Zayo Network            2\n",
       "2  Acct-000002      Build in Progress            1\n",
       "3  Acct-000002    Not on Zayo Network            7\n",
       "4  Acct-000002        On Zayo Network           68"
      ]
     },
     "execution_count": 38,
     "metadata": {},
     "output_type": "execute_result"
    }
   ],
   "source": [
    "count_bldg_opps.head()"
   ]
  },
  {
   "cell_type": "markdown",
   "metadata": {
    "deletable": true,
    "editable": true
   },
   "source": [
    "### converting Total BRR from strings to floats"
   ]
  },
  {
   "cell_type": "code",
   "execution_count": 39,
   "metadata": {
    "collapsed": false,
    "deletable": true,
    "editable": true
   },
   "outputs": [],
   "source": [
    "accounts[' Total BRR '] = accounts[' Total BRR '].map(lambda tbrr: float(tbrr.split('$')[1]\n",
    "                                                                         .replace(',','')\n",
    "                                                                         .replace('-','0.0')))\n",
    "\n",
    "accounts[' Total BRR '] = accounts[' Total BRR '].astype(float)"
   ]
  },
  {
   "cell_type": "code",
   "execution_count": 40,
   "metadata": {
    "collapsed": false,
    "deletable": true,
    "editable": true
   },
   "outputs": [
    {
     "data": {
      "text/html": [
       "<div>\n",
       "<table border=\"1\" class=\"dataframe\">\n",
       "  <thead>\n",
       "    <tr style=\"text-align: right;\">\n",
       "      <th></th>\n",
       "      <th>Account ID</th>\n",
       "      <th>Industry</th>\n",
       "      <th>Vertical</th>\n",
       "      <th>Total BRR</th>\n",
       "      <th>AnnualRevenue</th>\n",
       "      <th>NumberOfEmployees</th>\n",
       "      <th>DandB Revenue</th>\n",
       "      <th>DandB Total Employees</th>\n",
       "    </tr>\n",
       "  </thead>\n",
       "  <tbody>\n",
       "    <tr>\n",
       "      <th>0</th>\n",
       "      <td>Acct-000273</td>\n",
       "      <td>Telecommunications</td>\n",
       "      <td>Wireless</td>\n",
       "      <td>6084906.0</td>\n",
       "      <td>$248,747,365.62</td>\n",
       "      <td>397</td>\n",
       "      <td>$356,943,618.45</td>\n",
       "      <td>397</td>\n",
       "    </tr>\n",
       "    <tr>\n",
       "      <th>1</th>\n",
       "      <td>Acct-000013</td>\n",
       "      <td>Telecommunications</td>\n",
       "      <td>National Carrier/ISP</td>\n",
       "      <td>5117529.0</td>\n",
       "      <td>$10,779,768,901.96</td>\n",
       "      <td>40000</td>\n",
       "      <td>$10,779,768,901.96</td>\n",
       "      <td>40000</td>\n",
       "    </tr>\n",
       "    <tr>\n",
       "      <th>2</th>\n",
       "      <td>Acct-000036</td>\n",
       "      <td>Telecommunications</td>\n",
       "      <td>Wireless</td>\n",
       "      <td>5105015.0</td>\n",
       "      <td>$9,277,969,886.09</td>\n",
       "      <td>34518</td>\n",
       "      <td>$19,094,310,655.17</td>\n",
       "      <td>34518</td>\n",
       "    </tr>\n",
       "    <tr>\n",
       "      <th>3</th>\n",
       "      <td>Acct-000025</td>\n",
       "      <td>Telecommunications</td>\n",
       "      <td>National Carrier/ISP</td>\n",
       "      <td>4234871.0</td>\n",
       "      <td>$6,248,394,000.00</td>\n",
       "      <td>10040</td>\n",
       "      <td>$7,587,138,000.00</td>\n",
       "      <td>12500</td>\n",
       "    </tr>\n",
       "    <tr>\n",
       "      <th>4</th>\n",
       "      <td>Acct-000004</td>\n",
       "      <td>Telecommunications</td>\n",
       "      <td>Wireless</td>\n",
       "      <td>3510947.0</td>\n",
       "      <td>$29,669,960,000.00</td>\n",
       "      <td>30000</td>\n",
       "      <td>$32,588,090,000.00</td>\n",
       "      <td>30000</td>\n",
       "    </tr>\n",
       "  </tbody>\n",
       "</table>\n",
       "</div>"
      ],
      "text/plain": [
       "    Account ID            Industry              Vertical   Total BRR   \\\n",
       "0  Acct-000273  Telecommunications              Wireless    6084906.0   \n",
       "1  Acct-000013  Telecommunications  National Carrier/ISP    5117529.0   \n",
       "2  Acct-000036  Telecommunications              Wireless    5105015.0   \n",
       "3  Acct-000025  Telecommunications  National Carrier/ISP    4234871.0   \n",
       "4  Acct-000004  Telecommunications              Wireless    3510947.0   \n",
       "\n",
       "         AnnualRevenue   NumberOfEmployees        DandB Revenue   \\\n",
       "0      $248,747,365.62                 397      $356,943,618.45    \n",
       "1   $10,779,768,901.96               40000   $10,779,768,901.96    \n",
       "2    $9,277,969,886.09               34518   $19,094,310,655.17    \n",
       "3    $6,248,394,000.00               10040    $7,587,138,000.00    \n",
       "4   $29,669,960,000.00               30000   $32,588,090,000.00    \n",
       "\n",
       "   DandB Total Employees  \n",
       "0                    397  \n",
       "1                  40000  \n",
       "2                  34518  \n",
       "3                  12500  \n",
       "4                  30000  "
      ]
     },
     "execution_count": 40,
     "metadata": {},
     "output_type": "execute_result"
    }
   ],
   "source": [
    "accounts.head()"
   ]
  },
  {
   "cell_type": "markdown",
   "metadata": {
    "deletable": true,
    "editable": true
   },
   "source": [
    "### isolating accounts having Total BRR >= 500,00 (high-revenue accounts) and On Zayo Network"
   ]
  },
  {
   "cell_type": "code",
   "execution_count": 41,
   "metadata": {
    "collapsed": true,
    "deletable": true,
    "editable": true
   },
   "outputs": [],
   "source": [
    "high_rev_acc = accounts[accounts[' Total BRR '] >= 500000]\n",
    "high_rev_acc_opps = pd.merge(high_rev_acc, count_bldg_opps, on=['Account ID'], how='inner')\n",
    "high_rev_acc_opps_net = pd.DataFrame(high_rev_acc_opps[high_rev_acc_opps['On Zayo Network Status'] == 'On Zayo Network'])"
   ]
  },
  {
   "cell_type": "code",
   "execution_count": 42,
   "metadata": {
    "collapsed": true,
    "deletable": true,
    "editable": true
   },
   "outputs": [],
   "source": [
    "high_rev_acc_opps_net.drop([' DandB Revenue ', 'DandB Total Employees'], axis=1, inplace=True)"
   ]
  },
  {
   "cell_type": "code",
   "execution_count": 43,
   "metadata": {
    "collapsed": false,
    "deletable": true,
    "editable": true
   },
   "outputs": [
    {
     "data": {
      "text/plain": [
       "Index(['Account ID', 'Industry', 'Vertical', ' Total BRR ', ' AnnualRevenue ',\n",
       "       'NumberOfEmployees', 'On Zayo Network Status', 'Building ID'],\n",
       "      dtype='object')"
      ]
     },
     "execution_count": 43,
     "metadata": {},
     "output_type": "execute_result"
    }
   ],
   "source": [
    "high_rev_acc_opps_net.columns"
   ]
  },
  {
   "cell_type": "code",
   "execution_count": 44,
   "metadata": {
    "collapsed": true,
    "deletable": true,
    "editable": true
   },
   "outputs": [],
   "source": [
    "high_rev_acc_opps_net.rename(columns={'Building ID': 'Total Buildings'}, inplace=True)"
   ]
  },
  {
   "cell_type": "markdown",
   "metadata": {
    "deletable": true,
    "editable": true
   },
   "source": [
    "### sorting by number of on-net buildings"
   ]
  },
  {
   "cell_type": "code",
   "execution_count": 45,
   "metadata": {
    "collapsed": false,
    "deletable": true,
    "editable": true
   },
   "outputs": [],
   "source": [
    "high_rev_acc_opps_net.sort_values(by='Total Buildings', ascending=False, inplace=True)"
   ]
  },
  {
   "cell_type": "code",
   "execution_count": 46,
   "metadata": {
    "collapsed": false,
    "deletable": true,
    "editable": true
   },
   "outputs": [
    {
     "data": {
      "text/html": [
       "<div>\n",
       "<table border=\"1\" class=\"dataframe\">\n",
       "  <thead>\n",
       "    <tr style=\"text-align: right;\">\n",
       "      <th></th>\n",
       "      <th>Account ID</th>\n",
       "      <th>Industry</th>\n",
       "      <th>Vertical</th>\n",
       "      <th>Total BRR</th>\n",
       "      <th>AnnualRevenue</th>\n",
       "      <th>NumberOfEmployees</th>\n",
       "      <th>On Zayo Network Status</th>\n",
       "      <th>Total Buildings</th>\n",
       "    </tr>\n",
       "  </thead>\n",
       "  <tbody>\n",
       "    <tr>\n",
       "      <th>20</th>\n",
       "      <td>Acct-000009</td>\n",
       "      <td>Telecommunications</td>\n",
       "      <td>National Carrier/ISP</td>\n",
       "      <td>1915889.0</td>\n",
       "      <td>$5,374,799,000.00</td>\n",
       "      <td>12626</td>\n",
       "      <td>On Zayo Network</td>\n",
       "      <td>81</td>\n",
       "    </tr>\n",
       "    <tr>\n",
       "      <th>5</th>\n",
       "      <td>Acct-000013</td>\n",
       "      <td>Telecommunications</td>\n",
       "      <td>National Carrier/ISP</td>\n",
       "      <td>5117529.0</td>\n",
       "      <td>$10,779,768,901.96</td>\n",
       "      <td>40000</td>\n",
       "      <td>On Zayo Network</td>\n",
       "      <td>74</td>\n",
       "    </tr>\n",
       "    <tr>\n",
       "      <th>15</th>\n",
       "      <td>Acct-000002</td>\n",
       "      <td>Telecommunications</td>\n",
       "      <td>National Carrier/ISP</td>\n",
       "      <td>3344939.0</td>\n",
       "      <td>$25,378,360,491.80</td>\n",
       "      <td>43350</td>\n",
       "      <td>On Zayo Network</td>\n",
       "      <td>68</td>\n",
       "    </tr>\n",
       "    <tr>\n",
       "      <th>26</th>\n",
       "      <td>Acct-000072</td>\n",
       "      <td>Telecommunications</td>\n",
       "      <td>National Carrier/ISP</td>\n",
       "      <td>1307326.0</td>\n",
       "      <td>$109,048,721.12</td>\n",
       "      <td>431</td>\n",
       "      <td>On Zayo Network</td>\n",
       "      <td>48</td>\n",
       "    </tr>\n",
       "    <tr>\n",
       "      <th>17</th>\n",
       "      <td>Acct-000053</td>\n",
       "      <td>Telecommunications</td>\n",
       "      <td>National Carrier/ISP</td>\n",
       "      <td>2950069.0</td>\n",
       "      <td>$16,503,800,000.00</td>\n",
       "      <td>43000</td>\n",
       "      <td>On Zayo Network</td>\n",
       "      <td>45</td>\n",
       "    </tr>\n",
       "  </tbody>\n",
       "</table>\n",
       "</div>"
      ],
      "text/plain": [
       "     Account ID            Industry              Vertical   Total BRR   \\\n",
       "20  Acct-000009  Telecommunications  National Carrier/ISP    1915889.0   \n",
       "5   Acct-000013  Telecommunications  National Carrier/ISP    5117529.0   \n",
       "15  Acct-000002  Telecommunications  National Carrier/ISP    3344939.0   \n",
       "26  Acct-000072  Telecommunications  National Carrier/ISP    1307326.0   \n",
       "17  Acct-000053  Telecommunications  National Carrier/ISP    2950069.0   \n",
       "\n",
       "          AnnualRevenue   NumberOfEmployees On Zayo Network Status  \\\n",
       "20    $5,374,799,000.00               12626        On Zayo Network   \n",
       "5    $10,779,768,901.96               40000        On Zayo Network   \n",
       "15   $25,378,360,491.80               43350        On Zayo Network   \n",
       "26      $109,048,721.12                 431        On Zayo Network   \n",
       "17   $16,503,800,000.00               43000        On Zayo Network   \n",
       "\n",
       "    Total Buildings  \n",
       "20               81  \n",
       "5                74  \n",
       "15               68  \n",
       "26               48  \n",
       "17               45  "
      ]
     },
     "execution_count": 46,
     "metadata": {},
     "output_type": "execute_result"
    }
   ],
   "source": [
    "high_rev_acc_opps_net.head()"
   ]
  },
  {
   "cell_type": "code",
   "execution_count": 47,
   "metadata": {
    "collapsed": false,
    "deletable": true,
    "editable": true
   },
   "outputs": [
    {
     "data": {
      "text/plain": [
       "(30, 8)"
      ]
     },
     "execution_count": 47,
     "metadata": {},
     "output_type": "execute_result"
    }
   ],
   "source": [
    "high_rev_acc_opps_net.shape"
   ]
  },
  {
   "cell_type": "markdown",
   "metadata": {
    "deletable": true,
    "editable": true
   },
   "source": [
    "### saving to csv for use in visualization"
   ]
  },
  {
   "cell_type": "code",
   "execution_count": 48,
   "metadata": {
    "collapsed": false,
    "deletable": true,
    "editable": true
   },
   "outputs": [],
   "source": [
    "saveToFile = os.path.join(PROCESSED_PATH, 'Opportunities_with_Current_High_Revenue_Accounts_On_Net.csv')\n",
    "high_rev_acc_opps_net.to_csv(saveToFile, index = False)"
   ]
  },
  {
   "cell_type": "markdown",
   "metadata": {
    "deletable": true,
    "editable": true
   },
   "source": [
    "### isolating accounts with no BRR (potential accounts)"
   ]
  },
  {
   "cell_type": "code",
   "execution_count": 49,
   "metadata": {
    "collapsed": true,
    "deletable": true,
    "editable": true
   },
   "outputs": [],
   "source": [
    "zero_rev_acc = accounts[accounts[' Total BRR '] == 0]\n",
    "zero_rev_acc_opps = pd.merge(zero_rev_acc, opportunities_not_lost,\\\n",
    "                                    on=['Account ID'],\\\n",
    "                                    how='inner').sort_values(by='Building ID', ascending=False)"
   ]
  },
  {
   "cell_type": "code",
   "execution_count": 50,
   "metadata": {
    "collapsed": false,
    "deletable": true,
    "editable": true
   },
   "outputs": [
    {
     "data": {
      "text/plain": [
       "Index(['Account ID', 'Industry', 'Vertical', ' Total BRR ', ' AnnualRevenue ',\n",
       "       'NumberOfEmployees', ' DandB Revenue ', 'DandB Total Employees',\n",
       "       'Building ID'],\n",
       "      dtype='object')"
      ]
     },
     "execution_count": 50,
     "metadata": {},
     "output_type": "execute_result"
    }
   ],
   "source": [
    "zero_rev_acc_opps.columns"
   ]
  },
  {
   "cell_type": "code",
   "execution_count": 51,
   "metadata": {
    "collapsed": false,
    "deletable": true,
    "editable": true
   },
   "outputs": [],
   "source": [
    "zero_rev_acc_opps.drop(labels=[' Total BRR ', ' AnnualRevenue ',\n",
    "       'NumberOfEmployees', ' DandB Revenue ', 'DandB Total Employees'], axis=1, inplace=True)"
   ]
  },
  {
   "cell_type": "code",
   "execution_count": 52,
   "metadata": {
    "collapsed": true,
    "deletable": true,
    "editable": true
   },
   "outputs": [],
   "source": [
    "zero_rev_acc_opps.rename(columns={'Building ID': 'Total Buildings'}, inplace=True)"
   ]
  },
  {
   "cell_type": "markdown",
   "metadata": {
    "deletable": true,
    "editable": true
   },
   "source": [
    "### sorting by number of on-net buildings"
   ]
  },
  {
   "cell_type": "code",
   "execution_count": 53,
   "metadata": {
    "collapsed": true,
    "deletable": true,
    "editable": true
   },
   "outputs": [],
   "source": [
    "zero_rev_acc_opps.sort_values(by='Total Buildings', ascending=False, inplace=True)"
   ]
  },
  {
   "cell_type": "code",
   "execution_count": 54,
   "metadata": {
    "collapsed": false,
    "deletable": true,
    "editable": true
   },
   "outputs": [
    {
     "data": {
      "text/html": [
       "<div>\n",
       "<table border=\"1\" class=\"dataframe\">\n",
       "  <thead>\n",
       "    <tr style=\"text-align: right;\">\n",
       "      <th></th>\n",
       "      <th>Account ID</th>\n",
       "      <th>Industry</th>\n",
       "      <th>Vertical</th>\n",
       "      <th>Total Buildings</th>\n",
       "    </tr>\n",
       "  </thead>\n",
       "  <tbody>\n",
       "    <tr>\n",
       "      <th>71</th>\n",
       "      <td>Acct-000245</td>\n",
       "      <td>Telecommunications</td>\n",
       "      <td>Reseller</td>\n",
       "      <td>180</td>\n",
       "    </tr>\n",
       "    <tr>\n",
       "      <th>156</th>\n",
       "      <td>Acct-001289</td>\n",
       "      <td>Research &amp; Education</td>\n",
       "      <td>K-12 Education</td>\n",
       "      <td>100</td>\n",
       "    </tr>\n",
       "    <tr>\n",
       "      <th>83</th>\n",
       "      <td>Acct-001241</td>\n",
       "      <td>Research &amp; Education</td>\n",
       "      <td>K-12 Education</td>\n",
       "      <td>78</td>\n",
       "    </tr>\n",
       "    <tr>\n",
       "      <th>155</th>\n",
       "      <td>Acct-001285</td>\n",
       "      <td>Research &amp; Education</td>\n",
       "      <td>K-12 Education</td>\n",
       "      <td>52</td>\n",
       "    </tr>\n",
       "    <tr>\n",
       "      <th>154</th>\n",
       "      <td>Acct-001284</td>\n",
       "      <td>Research &amp; Education</td>\n",
       "      <td>K-12 Education</td>\n",
       "      <td>41</td>\n",
       "    </tr>\n",
       "  </tbody>\n",
       "</table>\n",
       "</div>"
      ],
      "text/plain": [
       "      Account ID              Industry        Vertical  Total Buildings\n",
       "71   Acct-000245    Telecommunications        Reseller              180\n",
       "156  Acct-001289  Research & Education  K-12 Education              100\n",
       "83   Acct-001241  Research & Education  K-12 Education               78\n",
       "155  Acct-001285  Research & Education  K-12 Education               52\n",
       "154  Acct-001284  Research & Education  K-12 Education               41"
      ]
     },
     "execution_count": 54,
     "metadata": {},
     "output_type": "execute_result"
    }
   ],
   "source": [
    "zero_rev_acc_opps.head()"
   ]
  },
  {
   "cell_type": "markdown",
   "metadata": {
    "deletable": true,
    "editable": true
   },
   "source": [
    "### saving to csv for use in visualization"
   ]
  },
  {
   "cell_type": "code",
   "execution_count": 55,
   "metadata": {
    "collapsed": false,
    "deletable": true,
    "editable": true
   },
   "outputs": [],
   "source": [
    "saveToFile = os.path.join(PROCESSED_PATH, 'Opportunities_with_Potential_Accounts.csv')\n",
    "zero_rev_acc_opps.to_csv(saveToFile, index = False)"
   ]
  },
  {
   "cell_type": "markdown",
   "metadata": {
    "deletable": true,
    "editable": true
   },
   "source": [
    "### isolating on-net sites"
   ]
  },
  {
   "cell_type": "code",
   "execution_count": 56,
   "metadata": {
    "collapsed": true,
    "deletable": true,
    "editable": true
   },
   "outputs": [],
   "source": [
    "sites_on_net = sites[sites['On Zayo Network Status'] != 'Not on Zayo Network'].groupby(['Account ID'])['Building ID'].count().reset_index().sort_values(by='Building ID', ascending=False)"
   ]
  },
  {
   "cell_type": "code",
   "execution_count": 57,
   "metadata": {
    "collapsed": false
   },
   "outputs": [
    {
     "data": {
      "text/html": [
       "<div>\n",
       "<table border=\"1\" class=\"dataframe\">\n",
       "  <thead>\n",
       "    <tr style=\"text-align: right;\">\n",
       "      <th></th>\n",
       "      <th>Account ID</th>\n",
       "      <th>Building ID</th>\n",
       "    </tr>\n",
       "  </thead>\n",
       "  <tbody>\n",
       "    <tr>\n",
       "      <th>174</th>\n",
       "      <td>Acct-000273</td>\n",
       "      <td>970</td>\n",
       "    </tr>\n",
       "    <tr>\n",
       "      <th>7</th>\n",
       "      <td>Acct-000008</td>\n",
       "      <td>704</td>\n",
       "    </tr>\n",
       "    <tr>\n",
       "      <th>3</th>\n",
       "      <td>Acct-000004</td>\n",
       "      <td>446</td>\n",
       "    </tr>\n",
       "    <tr>\n",
       "      <th>77</th>\n",
       "      <td>Acct-000122</td>\n",
       "      <td>367</td>\n",
       "    </tr>\n",
       "    <tr>\n",
       "      <th>420</th>\n",
       "      <td>Acct-000700</td>\n",
       "      <td>321</td>\n",
       "    </tr>\n",
       "  </tbody>\n",
       "</table>\n",
       "</div>"
      ],
      "text/plain": [
       "      Account ID  Building ID\n",
       "174  Acct-000273          970\n",
       "7    Acct-000008          704\n",
       "3    Acct-000004          446\n",
       "77   Acct-000122          367\n",
       "420  Acct-000700          321"
      ]
     },
     "execution_count": 57,
     "metadata": {},
     "output_type": "execute_result"
    }
   ],
   "source": [
    "sites_on_net.head()"
   ]
  },
  {
   "cell_type": "markdown",
   "metadata": {
    "deletable": true,
    "editable": true
   },
   "source": [
    "### isolating sites not on net"
   ]
  },
  {
   "cell_type": "code",
   "execution_count": 58,
   "metadata": {
    "collapsed": true,
    "deletable": true,
    "editable": true
   },
   "outputs": [],
   "source": [
    "sites_no_net = sites[sites['On Zayo Network Status'] == 'Not on Zayo Network'].groupby(['Account ID'])['Building ID'].count().reset_index().sort_values(by='Building ID', ascending=False)"
   ]
  },
  {
   "cell_type": "code",
   "execution_count": 59,
   "metadata": {
    "collapsed": false
   },
   "outputs": [
    {
     "data": {
      "text/html": [
       "<div>\n",
       "<table border=\"1\" class=\"dataframe\">\n",
       "  <thead>\n",
       "    <tr style=\"text-align: right;\">\n",
       "      <th></th>\n",
       "      <th>Account ID</th>\n",
       "      <th>Building ID</th>\n",
       "    </tr>\n",
       "  </thead>\n",
       "  <tbody>\n",
       "    <tr>\n",
       "      <th>139</th>\n",
       "      <td>Acct-000700</td>\n",
       "      <td>2188</td>\n",
       "    </tr>\n",
       "    <tr>\n",
       "      <th>249</th>\n",
       "      <td>Acct-001366</td>\n",
       "      <td>1463</td>\n",
       "    </tr>\n",
       "    <tr>\n",
       "      <th>145</th>\n",
       "      <td>Acct-000730</td>\n",
       "      <td>643</td>\n",
       "    </tr>\n",
       "    <tr>\n",
       "      <th>0</th>\n",
       "      <td>Acct-000002</td>\n",
       "      <td>588</td>\n",
       "    </tr>\n",
       "    <tr>\n",
       "      <th>13</th>\n",
       "      <td>Acct-000036</td>\n",
       "      <td>587</td>\n",
       "    </tr>\n",
       "  </tbody>\n",
       "</table>\n",
       "</div>"
      ],
      "text/plain": [
       "      Account ID  Building ID\n",
       "139  Acct-000700         2188\n",
       "249  Acct-001366         1463\n",
       "145  Acct-000730          643\n",
       "0    Acct-000002          588\n",
       "13   Acct-000036          587"
      ]
     },
     "execution_count": 59,
     "metadata": {},
     "output_type": "execute_result"
    }
   ],
   "source": [
    "sites_no_net.head()"
   ]
  },
  {
   "cell_type": "markdown",
   "metadata": {
    "deletable": true,
    "editable": true
   },
   "source": [
    "### renaming columns to something more meaningful"
   ]
  },
  {
   "cell_type": "code",
   "execution_count": 60,
   "metadata": {
    "collapsed": false,
    "deletable": true,
    "editable": true
   },
   "outputs": [],
   "source": [
    "sites_on_net.rename(columns={'Building ID': '# Buildings on Net'}, inplace=True)\n",
    "sites_no_net.rename(columns={'Building ID': '# Buildings not on Net'}, inplace=True)"
   ]
  },
  {
   "cell_type": "markdown",
   "metadata": {
    "deletable": true,
    "editable": true
   },
   "source": [
    "### getting the total number of on-net and off-net buildings associated with every account"
   ]
  },
  {
   "cell_type": "code",
   "execution_count": 61,
   "metadata": {
    "collapsed": true,
    "deletable": true,
    "editable": true
   },
   "outputs": [],
   "source": [
    "potential_accounts_buildings_info = (pd.merge(sites_on_net, sites_no_net,\\\n",
    "         on=['Account ID'],\\\n",
    "         how='outer').sort_values(by='# Buildings on Net', ascending=False)).fillna(0)\n",
    "\n",
    "potential_accounts_buildings_info['# Buildings not on Net'] = potential_accounts_buildings_info['# Buildings not on Net'].astype(int)"
   ]
  },
  {
   "cell_type": "markdown",
   "metadata": {
    "deletable": true,
    "editable": true
   },
   "source": [
    "### extending accounts.csv to have 2 more columns: number of buildings on-net and number off-net"
   ]
  },
  {
   "cell_type": "code",
   "execution_count": 62,
   "metadata": {
    "collapsed": true,
    "deletable": true,
    "editable": true
   },
   "outputs": [],
   "source": [
    "potential_accounts_buildings_info_tbrr = pd.merge(accounts, potential_accounts_buildings_info,\\\n",
    "         on=['Account ID'],\\\n",
    "         how='inner')"
   ]
  },
  {
   "cell_type": "markdown",
   "metadata": {
    "deletable": true,
    "editable": true
   },
   "source": [
    "### isolating only those accounts with Total BRR > 0 and dropping unwanted columns"
   ]
  },
  {
   "cell_type": "code",
   "execution_count": 63,
   "metadata": {
    "collapsed": true,
    "deletable": true,
    "editable": true
   },
   "outputs": [],
   "source": [
    "potential_accounts_buildings_info_tbrr = pd.DataFrame(potential_accounts_buildings_info_tbrr\\\n",
    "                                                      [potential_accounts_buildings_info_tbrr[' Total BRR '] > 0])\n",
    "\n",
    "potential_accounts_buildings_info_tbrr.drop([' AnnualRevenue ','NumberOfEmployees',\\\n",
    "                                             ' DandB Revenue ', 'DandB Total Employees'], axis=1, inplace=True)"
   ]
  },
  {
   "cell_type": "code",
   "execution_count": 64,
   "metadata": {
    "collapsed": false,
    "deletable": true,
    "editable": true,
    "scrolled": true
   },
   "outputs": [
    {
     "data": {
      "text/html": [
       "<div>\n",
       "<table border=\"1\" class=\"dataframe\">\n",
       "  <thead>\n",
       "    <tr style=\"text-align: right;\">\n",
       "      <th></th>\n",
       "      <th>Account ID</th>\n",
       "      <th>Industry</th>\n",
       "      <th>Vertical</th>\n",
       "      <th>Total BRR</th>\n",
       "      <th># Buildings on Net</th>\n",
       "      <th># Buildings not on Net</th>\n",
       "    </tr>\n",
       "  </thead>\n",
       "  <tbody>\n",
       "    <tr>\n",
       "      <th>0</th>\n",
       "      <td>Acct-000273</td>\n",
       "      <td>Telecommunications</td>\n",
       "      <td>Wireless</td>\n",
       "      <td>6084906.0</td>\n",
       "      <td>970.0</td>\n",
       "      <td>45</td>\n",
       "    </tr>\n",
       "    <tr>\n",
       "      <th>1</th>\n",
       "      <td>Acct-000013</td>\n",
       "      <td>Telecommunications</td>\n",
       "      <td>National Carrier/ISP</td>\n",
       "      <td>5117529.0</td>\n",
       "      <td>188.0</td>\n",
       "      <td>17</td>\n",
       "    </tr>\n",
       "    <tr>\n",
       "      <th>2</th>\n",
       "      <td>Acct-000036</td>\n",
       "      <td>Telecommunications</td>\n",
       "      <td>Wireless</td>\n",
       "      <td>5105015.0</td>\n",
       "      <td>75.0</td>\n",
       "      <td>587</td>\n",
       "    </tr>\n",
       "    <tr>\n",
       "      <th>3</th>\n",
       "      <td>Acct-000025</td>\n",
       "      <td>Telecommunications</td>\n",
       "      <td>National Carrier/ISP</td>\n",
       "      <td>4234871.0</td>\n",
       "      <td>228.0</td>\n",
       "      <td>32</td>\n",
       "    </tr>\n",
       "    <tr>\n",
       "      <th>4</th>\n",
       "      <td>Acct-000004</td>\n",
       "      <td>Telecommunications</td>\n",
       "      <td>Wireless</td>\n",
       "      <td>3510947.0</td>\n",
       "      <td>446.0</td>\n",
       "      <td>213</td>\n",
       "    </tr>\n",
       "  </tbody>\n",
       "</table>\n",
       "</div>"
      ],
      "text/plain": [
       "    Account ID            Industry              Vertical   Total BRR   \\\n",
       "0  Acct-000273  Telecommunications              Wireless    6084906.0   \n",
       "1  Acct-000013  Telecommunications  National Carrier/ISP    5117529.0   \n",
       "2  Acct-000036  Telecommunications              Wireless    5105015.0   \n",
       "3  Acct-000025  Telecommunications  National Carrier/ISP    4234871.0   \n",
       "4  Acct-000004  Telecommunications              Wireless    3510947.0   \n",
       "\n",
       "   # Buildings on Net  # Buildings not on Net  \n",
       "0               970.0                      45  \n",
       "1               188.0                      17  \n",
       "2                75.0                     587  \n",
       "3               228.0                      32  \n",
       "4               446.0                     213  "
      ]
     },
     "execution_count": 64,
     "metadata": {},
     "output_type": "execute_result"
    }
   ],
   "source": [
    "potential_accounts_buildings_info_tbrr.head()"
   ]
  },
  {
   "cell_type": "markdown",
   "metadata": {
    "deletable": true,
    "editable": true
   },
   "source": [
    "### sorting by number of on-net buildings"
   ]
  },
  {
   "cell_type": "code",
   "execution_count": 65,
   "metadata": {
    "collapsed": true,
    "deletable": true,
    "editable": true
   },
   "outputs": [],
   "source": [
    "potential_accounts_buildings_info_tbrr_temp = potential_accounts_buildings_info_tbrr[potential_accounts_buildings_info_tbrr['# Buildings not on Net'] > 0] \n",
    "potential_accounts_buildings_info_tbrr_temp.sort_values(by='# Buildings on Net', ascending=False, inplace=True)"
   ]
  },
  {
   "cell_type": "markdown",
   "metadata": {
    "deletable": true,
    "editable": true
   },
   "source": [
    "### saving to csv for use in visualization"
   ]
  },
  {
   "cell_type": "code",
   "execution_count": 66,
   "metadata": {
    "collapsed": true,
    "deletable": true,
    "editable": true
   },
   "outputs": [],
   "source": [
    "saveToFile = os.path.join(PROCESSED_PATH, 'Current_Accounts_Untapped_Buildings_On_Net.csv')\n",
    "potential_accounts_buildings_info_tbrr_temp.to_csv(saveToFile, index = False)"
   ]
  },
  {
   "cell_type": "code",
   "execution_count": null,
   "metadata": {
    "collapsed": true
   },
   "outputs": [],
   "source": []
  }
 ],
 "metadata": {
  "kernelspec": {
   "display_name": "Python 3",
   "language": "python",
   "name": "python3"
  },
  "language_info": {
   "codemirror_mode": {
    "name": "ipython",
    "version": 3
   },
   "file_extension": ".py",
   "mimetype": "text/x-python",
   "name": "python",
   "nbconvert_exporter": "python",
   "pygments_lexer": "ipython3",
   "version": "3.6.1"
  }
 },
 "nbformat": 4,
 "nbformat_minor": 2
}
