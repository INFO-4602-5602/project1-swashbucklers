{
 "cells": [
  {
   "cell_type": "code",
   "execution_count": null,
   "metadata": {
    "collapsed": false,
    "deletable": true,
    "editable": true
   },
   "outputs": [],
   "source": [
    "%autosave 1800"
   ]
  },
  {
   "cell_type": "code",
   "execution_count": null,
   "metadata": {
    "collapsed": true,
    "deletable": true,
    "editable": true
   },
   "outputs": [],
   "source": [
    "import pandas as pd\n",
    "import numpy as np\n",
    "%matplotlib inline"
   ]
  },
  {
   "cell_type": "code",
   "execution_count": null,
   "metadata": {
    "collapsed": false,
    "deletable": true,
    "editable": true
   },
   "outputs": [],
   "source": [
    "!ls"
   ]
  },
  {
   "cell_type": "code",
   "execution_count": null,
   "metadata": {
    "collapsed": true
   },
   "outputs": [],
   "source": [
    "def delete_duplicates_opportunities(fname):\n",
    "    fpd = pd.read_csv(fname)\n",
    "    fpd = fpd.drop_duplicates(['Account ID', 'Product Group', 'Building ID'])\n",
    "#     fpd.to_csv(fname)\n",
    "    return fpd"
   ]
  },
  {
   "cell_type": "code",
   "execution_count": null,
   "metadata": {
    "collapsed": false
   },
   "outputs": [],
   "source": [
    "# delete duplicate entries from opportunities csv\n",
    "opportunities = delete_duplicates_opportunities('ZayoHackathonData_Opportunities.csv')\n",
    "\n",
    "# create accounts dataframe\n",
    "accounts = pd.read_csv('ZayoHackathonData_Accounts.csv')"
   ]
  },
  {
   "cell_type": "code",
   "execution_count": null,
   "metadata": {
    "collapsed": false
   },
   "outputs": [],
   "source": [
    "print(opportunities.shape)\n",
    "print(accounts.shape)"
   ]
  },
  {
   "cell_type": "code",
   "execution_count": null,
   "metadata": {
    "collapsed": false,
    "deletable": true,
    "editable": true
   },
   "outputs": [],
   "source": [
    "# accounts = pd.read_csv('ZayoHackathonData_Accounts.csv')\n",
    "# buildings = pd.read_csv('ZayoHackathonData_Buildings.csv')\n",
    "# cpqs = pd.read_csv('ZayoHackathonData_CPQs.csv')\n",
    "# market = pd.read_csv('ZayoHackathonData_Markets.csv')\n",
    "# opportunities = pd.read_csv('ZayoHackathonData_Opportunities.csv')\n",
    "# services = pd.read_csv('ZayoHackathonData_Services.csv')\n",
    "# sites = pd.read_csv('ZayoHackathonData_Sites.csv')"
   ]
  },
  {
   "cell_type": "code",
   "execution_count": null,
   "metadata": {
    "collapsed": false
   },
   "outputs": [],
   "source": [
    "count_opps = pd.DataFrame(opportunities.groupby(['Account ID',\\ \n",
    "                                                 'On Zayo Network Status'])['Building ID'].count().reset_index())\n",
    "count_opps.sort_values(by=['Building ID'])"
   ]
  },
  {
   "cell_type": "code",
   "execution_count": null,
   "metadata": {
    "collapsed": false
   },
   "outputs": [],
   "source": [
    "# sum(accounts[' Total BRR ']!=\" $-   \")\n",
    "\n",
    "# df_merged = pd.merge(opportunities, accounts, on=list(common_attr), how='inner')"
   ]
  },
  {
   "cell_type": "code",
   "execution_count": null,
   "metadata": {
    "collapsed": false
   },
   "outputs": [],
   "source": [
    "accounts[' Total BRR '] = accounts[' Total BRR '].map(lambda tbrr: float(tbrr.split('$')[1]\n",
    "                                                                         .replace(',','')\n",
    "                                                                         .replace('-','0.0')))"
   ]
  },
  {
   "cell_type": "code",
   "execution_count": null,
   "metadata": {
    "collapsed": false
   },
   "outputs": [],
   "source": [
    "high_revenue_accounts = accounts[accounts[' Total BRR '] >= 500000]\n",
    "high_revenue_accounts_wo = pd.merge(high_revenue_accounts, count_opps, on=['Account ID'], how='inner')\n",
    "high_revenue_accounts_wo_on_net = high_revenue_accounts_wo[high_revenue_accounts_wo['On Zayo Network Status'] \\\n",
    "                                                           == 'On Zayo Network']"
   ]
  },
  {
   "cell_type": "code",
   "execution_count": null,
   "metadata": {
    "collapsed": false
   },
   "outputs": [],
   "source": [
    "zero_revenue_accounts = accounts[accounts[' Total BRR '] == 0]\n",
    "opportunities_not_lost = opportunities[opportunities['StageName'] != 'Closed - Lost'].groupby('Account ID')['Building ID'].count().reset_index()\n",
    "zero_revenue_accounts_wo = pd.merge(zero_revenue_accounts, opportunities_not_lost,\\ \n",
    "                                    on=['Account ID'],\\ \n",
    "                                    how='inner').sort_values(by='Building ID', ascending=False)"
   ]
  },
  {
   "cell_type": "code",
   "execution_count": null,
   "metadata": {
    "collapsed": false
   },
   "outputs": [],
   "source": [
    "# high_revenue_accounts_wo = pd.merge(high_revenue_accounts, count_opps, on=['Account ID'], how='inner')\n",
    "\n",
    "# high_revenue_accounts_wo_on_net = high_revenue_accounts_wo[high_revenue_accounts_wo['On Zayo Network Status'] == 'On Zayo Network']\n",
    "\n",
    "# high_revenue_accounts_wo.plot(x='Account ID', y='Building ID', kind='bar')\n",
    "\n",
    "# opportunities = opportunities.drop_duplicates(['Account ID', 'Product Group', 'Building ID'])\n",
    "\n",
    "# opportunities.shape\n",
    "\n",
    "# cpqs.to_csv(\"cpqs_deduplicated.csv\")\n",
    "\n",
    "# len(idx_dup_opportunities)\n",
    "\n",
    "# cpqs = cpqs.drop(cpqs.index[idx_dup_cpqs])\n",
    "\n",
    "# cpqs.to_csv(\"deduplicated_cpqs_2.csv\")\n",
    "\n",
    "# opportunities\n",
    "\n",
    "# buildings = buildings.dropna()\n",
    "# opportunities = opportunities.dropna()\n",
    "\n",
    "# building_attr = set([c for c in buildings.columns])\n",
    "# opportunities_attr = set([c for c in opportunities.columns])\n",
    "\n",
    "# # find intersection between columns in buildings and opportunities\n",
    "# common_attr_1 = building_attr.intersection(opportunities_attr)\n",
    "\n",
    "# x_building_attr = building_attr - common_attr\n",
    "# x_opportunities_attr = opportunities_attr - common_attr\n",
    "\n",
    "# opportunities['Postal Code'] = opportunities['Postal Code'].astype(str)\n",
    "# df_merged = pd.merge(opportunities, buildings, on=list(common_attr_1), how='inner')\n",
    "# df_merged = df_merged.drop('Service', axis=1)\n",
    "# df_merged.ix[df_merged['On Zayo Network Status']=='On Zayo Network', ' Estimated Build Cost '] = '$0.0'\n",
    "# df_merged.ix[df_merged['On Zayo Network Status']=='On Zayo Network', 'Network Proximity'] = 0.0\n",
    "# df_opportunities = df_merged[df_merged['StageName']==('3 - Committed' or '4 - Closed' or '5 - Accepted')]\n",
    "# buildings_opportunities = buildings[buildings['Building ID'].isin(df_opportunities['Building ID'].unique())]\n",
    "\n",
    "# df_merged = pd.merge(opportunities, buildings, on=list(common_attr), how='inner')\n",
    "\n",
    "# df_merged = df_merged.drop('Service', axis=1)\n",
    "\n",
    "# df_merged.ix[df_merged['On Zayo Network Status']=='On Zayo Network', ' Estimated Build Cost '] = '$0.0'\n",
    "\n",
    "# df_merged.ix[df_merged['On Zayo Network Status']=='On Zayo Network', 'Network Proximity'] = 0.0\n",
    "\n",
    "# df_opportunities = df_merged[df_merged['StageName']==('3 - Committed' or '4 - Closed' or '5 - Accepted')]\n",
    "\n",
    "# buildings_opportunities = buildings[buildings['Building ID'].isin(df_opportunities['Building ID'].unique())]\n",
    "\n",
    "# buildings_opportunities['On Zayo Network Status'].value_counts()\n",
    "\n",
    "# from bokeh.charts import Bar, output_notebook, show\n",
    "# output_notebook()\n",
    "\n",
    "# p = Bar(buildings_opportunities, 'On Zayo Network Status', title=\"Test\")\n",
    "# show(p)\n",
    "\n",
    "# cpqs_attr = set([c for c in cpqs.columns])\n",
    "# # opportunities_attr = set([c for c in opportunities.columns])\n",
    "\n",
    "# # find intersection between columns in buildings and opportunities\n",
    "# common_attr_2 = cpqs_attr.intersection(opportunities_attr)\n",
    "\n",
    "# x_cpqs_attr = cpqs_attr - common_attr\n",
    "# # x_opportunities_attr = opportunities_attr - common_attr\n",
    "\n",
    "# common_attr_2\n",
    "\n",
    "# cpqs_new = cpqs.dropna()\n",
    "\n",
    "# df_merged_2 = pd.merge(opportunities, cpqs_new, on=['Building ID', 'Account ID'], how='inner')\n",
    "\n",
    "# df_merged_2.shape"
   ]
  }
 ],
 "metadata": {
  "kernelspec": {
   "display_name": "Python 3",
   "language": "python",
   "name": "python3"
  },
  "language_info": {
   "codemirror_mode": {
    "name": "ipython",
    "version": 3
   },
   "file_extension": ".py",
   "mimetype": "text/x-python",
   "name": "python",
   "nbconvert_exporter": "python",
   "pygments_lexer": "ipython3",
   "version": "3.6.1"
  }
 },
 "nbformat": 4,
 "nbformat_minor": 2
}
