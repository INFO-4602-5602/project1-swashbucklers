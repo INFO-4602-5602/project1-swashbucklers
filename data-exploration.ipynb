{
 "cells": [
  {
   "cell_type": "code",
   "execution_count": 1,
   "metadata": {
    "collapsed": true,
    "deletable": true,
    "editable": true
   },
   "outputs": [],
   "source": [
    "import pandas as pd\n",
    "import numpy as np\n",
    "%matplotlib inline"
   ]
  },
  {
   "cell_type": "code",
   "execution_count": 2,
   "metadata": {
    "collapsed": false,
    "deletable": true,
    "editable": true
   },
   "outputs": [
    {
     "name": "stdout",
     "output_type": "stream",
     "text": [
      "ZayoHackathonData_Accounts.csv\r\n",
      "ZayoHackathonData_Buildings.csv\r\n",
      "ZayoHackathonData_CPQs.csv\r\n",
      "ZayoHackathonData_Key.xlsx\r\n",
      "ZayoHackathonData_Markets.csv\r\n",
      "ZayoHackathonData_Opportunities.csv\r\n",
      "ZayoHackathonData_Services.csv\r\n",
      "ZayoHackathonData_Sites.csv\r\n",
      "ZayoHackathonData(ver2).xlsx\r\n"
     ]
    }
   ],
   "source": [
    "!ls | grep Zayo"
   ]
  },
  {
   "cell_type": "code",
   "execution_count": 3,
   "metadata": {
    "collapsed": false,
    "deletable": true,
    "editable": true
   },
   "outputs": [],
   "source": [
    "accounts = pd.read_csv('ZayoHackathonData_Accounts.csv')\n",
    "buildings = pd.read_csv('ZayoHackathonData_Buildings.csv')\n",
    "cpqs = pd.read_csv('ZayoHackathonData_CPQs.csv')\n",
    "market = pd.read_csv('ZayoHackathonData_Markets.csv')\n",
    "opportunities = pd.read_csv('ZayoHackathonData_Opportunities.csv')\n",
    "services = pd.read_csv('ZayoHackathonData_Services.csv')\n",
    "sites = pd.read_csv('ZayoHackathonData_Sites.csv')"
   ]
  },
  {
   "cell_type": "code",
   "execution_count": null,
   "metadata": {
    "collapsed": true
   },
   "outputs": [],
   "source": [
    "# buildings = buildings.dropna()\n",
    "# opportunities = opportunities.dropna()"
   ]
  },
  {
   "cell_type": "code",
   "execution_count": 4,
   "metadata": {
    "collapsed": false,
    "deletable": true,
    "editable": true
   },
   "outputs": [],
   "source": [
    "building_attr = set([c for c in buildings.columns])\n",
    "opportunities_attr = set([c for c in opportunities.columns])\n",
    "\n",
    "# find intersection between columns in buildings and opportunities\n",
    "common_attr = building_attr.intersection(opportunities_attr)\n",
    "\n",
    "x_building_attr = building_attr - common_attr\n",
    "x_opportunities_attr = opportunities_attr - common_attr"
   ]
  },
  {
   "cell_type": "code",
   "execution_count": 5,
   "metadata": {
    "collapsed": true
   },
   "outputs": [],
   "source": [
    "opportunities['Postal Code'] = opportunities['Postal Code'].astype(str)\n",
    "df_merged = pd.merge(opportunities, buildings, on=list(common_attr), how='inner')\n",
    "df_merged = df_merged.drop('Service', axis=1)\n",
    "df_merged.ix[df_merged['On Zayo Network Status']=='On Zayo Network', ' Estimated Build Cost '] = '$0.0'\n",
    "df_merged.ix[df_merged['On Zayo Network Status']=='On Zayo Network', 'Network Proximity'] = 0.0\n",
    "df_opportunities = df_merged[df_merged['StageName']==('3 - Committed' or '4 - Closed' or '5 - Accepted')]\n",
    "buildings_opportunities = buildings[buildings['Building ID'].isin(df_opportunities['Building ID'].unique())]"
   ]
  },
  {
   "cell_type": "code",
   "execution_count": null,
   "metadata": {
    "collapsed": false
   },
   "outputs": [],
   "source": [
    "# df_merged = pd.merge(opportunities, buildings, on=list(common_attr), how='inner')"
   ]
  },
  {
   "cell_type": "code",
   "execution_count": null,
   "metadata": {
    "collapsed": false
   },
   "outputs": [],
   "source": [
    "# df_merged = df_merged.drop('Service', axis=1)"
   ]
  },
  {
   "cell_type": "code",
   "execution_count": null,
   "metadata": {
    "collapsed": false
   },
   "outputs": [],
   "source": [
    "# df_merged.ix[df_merged['On Zayo Network Status']=='On Zayo Network', ' Estimated Build Cost '] = '$0.0'"
   ]
  },
  {
   "cell_type": "code",
   "execution_count": null,
   "metadata": {
    "collapsed": false
   },
   "outputs": [],
   "source": [
    "# df_merged.ix[df_merged['On Zayo Network Status']=='On Zayo Network', 'Network Proximity'] = 0.0"
   ]
  },
  {
   "cell_type": "code",
   "execution_count": null,
   "metadata": {
    "collapsed": false
   },
   "outputs": [],
   "source": [
    "# df_opportunities = df_merged[df_merged['StageName']==('3 - Committed' or '4 - Closed' or '5 - Accepted')]"
   ]
  },
  {
   "cell_type": "code",
   "execution_count": null,
   "metadata": {
    "collapsed": true
   },
   "outputs": [],
   "source": [
    "# buildings_opportunities = buildings[buildings['Building ID'].isin(df_opportunities['Building ID'].unique())]"
   ]
  },
  {
   "cell_type": "code",
   "execution_count": 6,
   "metadata": {
    "collapsed": false
   },
   "outputs": [
    {
     "data": {
      "text/plain": [
       "array(['On Zayo Network', 'Not on Zayo Network', 'Build in Progress'], dtype=object)"
      ]
     },
     "execution_count": 6,
     "metadata": {},
     "output_type": "execute_result"
    }
   ],
   "source": [
    "buildings_opportunities['On Zayo Network Status'].unique()"
   ]
  }
 ],
 "metadata": {
  "kernelspec": {
   "display_name": "Python 3",
   "language": "python",
   "name": "python3"
  },
  "language_info": {
   "codemirror_mode": {
    "name": "ipython",
    "version": 3
   },
   "file_extension": ".py",
   "mimetype": "text/x-python",
   "name": "python",
   "nbconvert_exporter": "python",
   "pygments_lexer": "ipython3",
   "version": "3.6.1"
  }
 },
 "nbformat": 4,
 "nbformat_minor": 2
}
